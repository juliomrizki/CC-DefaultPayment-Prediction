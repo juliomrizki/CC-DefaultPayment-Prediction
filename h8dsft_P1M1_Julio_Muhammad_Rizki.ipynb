{
 "cells": [
  {
   "attachments": {},
   "cell_type": "markdown",
   "metadata": {},
   "source": [
    "# Milestone 1, Phase 1\n",
    "\n",
    "`Julio Muhammad Rizki, FTDS Batch 003-HCK`"
   ]
  },
  {
   "attachments": {},
   "cell_type": "markdown",
   "metadata": {},
   "source": [
    "# Objectives\n",
    "\n",
    "**Problems**\n",
    "\n",
    "Membuat model Classification untuk memprediksi default_payment_next_month menggunakan dataset yang ada.\n",
    "\n",
    "**Conceptual Problems**\n",
    "\n",
    "Jawab pertanyaan berikut:\n",
    "\n",
    "1. Apa yang dimaksud dengan criterion pada Decision Tree ? Jelaskan criterion yang kalian pakai dalam kasus ini !\n",
    "2. Jelaskan apa yang dimaksud dengan pruning pada Tree-based model (alasan, definisi, jenis, dll) !\n",
    "3. Bagaimana cara memilih K yang optimal pada KNN ?\n",
    "4. Jelaskan apa yang dimaksud dengan Cross Validation !\n",
    "5. Apa yang dimaksud dengan metrics-metrics berikut : Accuracy, Precision, Recall, F1 Score, dan kapan waktu yang tepat untuk menggunakannya ?"
   ]
  },
  {
   "attachments": {},
   "cell_type": "markdown",
   "metadata": {},
   "source": [
    "# Library Import"
   ]
  },
  {
   "cell_type": "code",
   "execution_count": 632,
   "metadata": {},
   "outputs": [],
   "source": [
    "# import library yang akan digunakan\n",
    "\n",
    "import pandas as pd\n",
    "pd.set_option('display.max_columns', 500)\n",
    "import numpy as np\n",
    "import matplotlib.pyplot as plt\n",
    "import seaborn as sns\n",
    "\n",
    "from sklearn.model_selection import train_test_split\n",
    "from sklearn.preprocessing import MinMaxScaler\n",
    "from sklearn.linear_model import LogisticRegression\n",
    "from sklearn.svm import SVC\n",
    "from sklearn.tree import DecisionTreeClassifier\n",
    "from sklearn.ensemble import RandomForestClassifier\n",
    "from sklearn.neighbors import KNeighborsClassifier\n",
    "from sklearn.naive_bayes import GaussianNB\n",
    "from sklearn.ensemble import AdaBoostClassifier\n",
    "from sklearn.model_selection import cross_val_score, StratifiedKFold\n",
    "from sklearn.metrics import confusion_matrix, classification_report, precision_score, recall_score, accuracy_score, f1_score, ConfusionMatrixDisplay\n",
    "from sklearn.model_selection import GridSearchCV\n",
    "from statsmodels.stats.outliers_influence import variance_inflation_factor\n",
    "\n",
    "import warnings\n",
    "warnings.filterwarnings(action='ignore')\n",
    "\n",
    "import phik\n",
    "from phik import resources, report\n",
    "from phik.report import plot_correlation_matrix\n",
    "\n",
    "import joblib"
   ]
  },
  {
   "attachments": {},
   "cell_type": "markdown",
   "metadata": {},
   "source": [
    "# Data Loading"
   ]
  },
  {
   "cell_type": "code",
   "execution_count": 633,
   "metadata": {},
   "outputs": [],
   "source": [
    "# Query from BigQuery, Google Cloud Platform\n",
    "\n",
    "# SELECT limit_balance, CAST(sex AS INTEGER) AS sex,\n",
    "#       CAST(education_level AS INTEGER) AS education_level,\n",
    "#       CAST(marital_status AS INTEGER) AS marital_status,\n",
    "#       age, pay_0, pay_2, pay_3, pay_4,\n",
    "#       CAST(pay_5 AS DECIMAL) AS pay_5,\n",
    "#       CAST(pay_6 AS DECIMAL) AS pay_6,\n",
    "#       bill_amt_1, bill_amt_2, bill_amt_3, bill_amt_4, bill_amt_5,\n",
    "#       bill_amt_6,pay_amt_1, pay_amt_2, pay_amt_3, pay_amt_4,\n",
    "#       pay_amt_5, pay_amt_6,\n",
    "#       CAST(default_payment_next_month AS INTEGER) as default_payment_next_month\n",
    "\n",
    "# FROM `bigquery-public-data.ml_datasets.credit_card_default`\n",
    "# LIMIT 5988"
   ]
  },
  {
   "attachments": {},
   "cell_type": "markdown",
   "metadata": {},
   "source": [
    "**Data Description by BigQuery**\n",
    "\n",
    "- limit_balance : Balance kredit yang diberikan dalam New Taiwan Dollar (NT Dollar)\n",
    "- sex : Gender (1=male, 2=female)\n",
    "- education_level : Education Level (1=graduate school, 2=university, 3=high school, 4=others, 5=unknown, 6=unknown)\n",
    "- marital_status : Status pernikahan (1=married, 2=single, 3=others)\n",
    "- age : Umur dalam tahun\n",
    "- pay_0 : Status Pembayaran di bulan September, 2005 (-1=pay duly, 1=payment delay for one month, 2=payment delay for two months, ... 8=payment delay for eight months, 9=payment delay for nine months and above)\n",
    "- pay_2 - pay_6 : Status Pembayaran di bulan Agustus dan sebelumnya sampai bulan April, 2005 (scale same as above)\n",
    "- bill_amt_1 : Jumlah tagihan di bulan September, 2005 (NT dollar)\n",
    "- bill_amt_2 - bill_amt_6 : Jumlah tagihan di bulan Agustus dan sebelumnya sampai bulan April, 2005 (NT dollar)\n",
    "- pay_amt_1 : Jumlah pembayaran sebelumnya di bulan September, 2005 (NT dollar)\n",
    "- pay_amt_2 - pay_amt_6 : Jumlah pembayaran sebelumnya di bulan Agustus dan sebelumnya sampai bulan April, 2005 (NT dollar)\n",
    "- default_payment_next_month : Default payment, dalam istilah kartu kredit, default payment berarti keadaan ketika pengguna kartu kredit berhenti membayarkan tagihan kredit (1=yes, 0=no)\n"
   ]
  },
  {
   "cell_type": "code",
   "execution_count": 634,
   "metadata": {},
   "outputs": [
    {
     "data": {
      "text/html": [
       "<div>\n",
       "<style scoped>\n",
       "    .dataframe tbody tr th:only-of-type {\n",
       "        vertical-align: middle;\n",
       "    }\n",
       "\n",
       "    .dataframe tbody tr th {\n",
       "        vertical-align: top;\n",
       "    }\n",
       "\n",
       "    .dataframe thead th {\n",
       "        text-align: right;\n",
       "    }\n",
       "</style>\n",
       "<table border=\"1\" class=\"dataframe\">\n",
       "  <thead>\n",
       "    <tr style=\"text-align: right;\">\n",
       "      <th></th>\n",
       "      <th>limit_balance</th>\n",
       "      <th>sex</th>\n",
       "      <th>education_level</th>\n",
       "      <th>marital_status</th>\n",
       "      <th>age</th>\n",
       "      <th>pay_0</th>\n",
       "      <th>pay_2</th>\n",
       "      <th>pay_3</th>\n",
       "      <th>pay_4</th>\n",
       "      <th>pay_5</th>\n",
       "      <th>pay_6</th>\n",
       "      <th>bill_amt_1</th>\n",
       "      <th>bill_amt_2</th>\n",
       "      <th>bill_amt_3</th>\n",
       "      <th>bill_amt_4</th>\n",
       "      <th>bill_amt_5</th>\n",
       "      <th>bill_amt_6</th>\n",
       "      <th>pay_amt_1</th>\n",
       "      <th>pay_amt_2</th>\n",
       "      <th>pay_amt_3</th>\n",
       "      <th>pay_amt_4</th>\n",
       "      <th>pay_amt_5</th>\n",
       "      <th>pay_amt_6</th>\n",
       "      <th>default_payment_next_month</th>\n",
       "    </tr>\n",
       "  </thead>\n",
       "  <tbody>\n",
       "    <tr>\n",
       "      <th>0</th>\n",
       "      <td>130000.0</td>\n",
       "      <td>1</td>\n",
       "      <td>1</td>\n",
       "      <td>1</td>\n",
       "      <td>45.0</td>\n",
       "      <td>0.0</td>\n",
       "      <td>0.0</td>\n",
       "      <td>0.0</td>\n",
       "      <td>0.0</td>\n",
       "      <td>0</td>\n",
       "      <td>0</td>\n",
       "      <td>58180.0</td>\n",
       "      <td>59134.0</td>\n",
       "      <td>61156.0</td>\n",
       "      <td>62377.0</td>\n",
       "      <td>63832.0</td>\n",
       "      <td>65099.0</td>\n",
       "      <td>2886.0</td>\n",
       "      <td>2908.0</td>\n",
       "      <td>2129.0</td>\n",
       "      <td>2354.0</td>\n",
       "      <td>2366.0</td>\n",
       "      <td>2291.0</td>\n",
       "      <td>0</td>\n",
       "    </tr>\n",
       "    <tr>\n",
       "      <th>1</th>\n",
       "      <td>230000.0</td>\n",
       "      <td>1</td>\n",
       "      <td>2</td>\n",
       "      <td>1</td>\n",
       "      <td>41.0</td>\n",
       "      <td>0.0</td>\n",
       "      <td>0.0</td>\n",
       "      <td>0.0</td>\n",
       "      <td>0.0</td>\n",
       "      <td>0</td>\n",
       "      <td>0</td>\n",
       "      <td>301038.0</td>\n",
       "      <td>305327.0</td>\n",
       "      <td>213058.0</td>\n",
       "      <td>216260.0</td>\n",
       "      <td>215968.0</td>\n",
       "      <td>174195.0</td>\n",
       "      <td>9405.0</td>\n",
       "      <td>7769.0</td>\n",
       "      <td>7757.0</td>\n",
       "      <td>8030.0</td>\n",
       "      <td>6549.0</td>\n",
       "      <td>5226.0</td>\n",
       "      <td>1</td>\n",
       "    </tr>\n",
       "    <tr>\n",
       "      <th>2</th>\n",
       "      <td>200000.0</td>\n",
       "      <td>1</td>\n",
       "      <td>1</td>\n",
       "      <td>1</td>\n",
       "      <td>58.0</td>\n",
       "      <td>0.0</td>\n",
       "      <td>0.0</td>\n",
       "      <td>0.0</td>\n",
       "      <td>0.0</td>\n",
       "      <td>0</td>\n",
       "      <td>0</td>\n",
       "      <td>192461.0</td>\n",
       "      <td>195970.0</td>\n",
       "      <td>122214.0</td>\n",
       "      <td>124647.0</td>\n",
       "      <td>126921.0</td>\n",
       "      <td>129167.0</td>\n",
       "      <td>7822.0</td>\n",
       "      <td>4417.0</td>\n",
       "      <td>4446.0</td>\n",
       "      <td>4597.0</td>\n",
       "      <td>4677.0</td>\n",
       "      <td>4698.0</td>\n",
       "      <td>0</td>\n",
       "    </tr>\n",
       "    <tr>\n",
       "      <th>3</th>\n",
       "      <td>500000.0</td>\n",
       "      <td>1</td>\n",
       "      <td>1</td>\n",
       "      <td>1</td>\n",
       "      <td>39.0</td>\n",
       "      <td>0.0</td>\n",
       "      <td>0.0</td>\n",
       "      <td>0.0</td>\n",
       "      <td>0.0</td>\n",
       "      <td>0</td>\n",
       "      <td>0</td>\n",
       "      <td>133598.0</td>\n",
       "      <td>167378.0</td>\n",
       "      <td>171106.0</td>\n",
       "      <td>174500.0</td>\n",
       "      <td>137406.0</td>\n",
       "      <td>204975.0</td>\n",
       "      <td>54209.0</td>\n",
       "      <td>4607.0</td>\n",
       "      <td>4603.0</td>\n",
       "      <td>5224.0</td>\n",
       "      <td>207440.0</td>\n",
       "      <td>7509.0</td>\n",
       "      <td>0</td>\n",
       "    </tr>\n",
       "    <tr>\n",
       "      <th>4</th>\n",
       "      <td>230000.0</td>\n",
       "      <td>1</td>\n",
       "      <td>1</td>\n",
       "      <td>1</td>\n",
       "      <td>48.0</td>\n",
       "      <td>0.0</td>\n",
       "      <td>0.0</td>\n",
       "      <td>0.0</td>\n",
       "      <td>0.0</td>\n",
       "      <td>0</td>\n",
       "      <td>0</td>\n",
       "      <td>160879.0</td>\n",
       "      <td>161797.0</td>\n",
       "      <td>165107.0</td>\n",
       "      <td>105508.0</td>\n",
       "      <td>108101.0</td>\n",
       "      <td>110094.0</td>\n",
       "      <td>7000.0</td>\n",
       "      <td>6607.0</td>\n",
       "      <td>3773.0</td>\n",
       "      <td>4290.0</td>\n",
       "      <td>4164.0</td>\n",
       "      <td>2000.0</td>\n",
       "      <td>0</td>\n",
       "    </tr>\n",
       "    <tr>\n",
       "      <th>5</th>\n",
       "      <td>500000.0</td>\n",
       "      <td>1</td>\n",
       "      <td>2</td>\n",
       "      <td>1</td>\n",
       "      <td>41.0</td>\n",
       "      <td>0.0</td>\n",
       "      <td>0.0</td>\n",
       "      <td>0.0</td>\n",
       "      <td>0.0</td>\n",
       "      <td>0</td>\n",
       "      <td>0</td>\n",
       "      <td>155820.0</td>\n",
       "      <td>171565.0</td>\n",
       "      <td>184782.0</td>\n",
       "      <td>152365.0</td>\n",
       "      <td>139757.0</td>\n",
       "      <td>153348.0</td>\n",
       "      <td>20000.0</td>\n",
       "      <td>20241.0</td>\n",
       "      <td>20154.0</td>\n",
       "      <td>20019.0</td>\n",
       "      <td>20151.0</td>\n",
       "      <td>20037.0</td>\n",
       "      <td>0</td>\n",
       "    </tr>\n",
       "    <tr>\n",
       "      <th>6</th>\n",
       "      <td>50000.0</td>\n",
       "      <td>1</td>\n",
       "      <td>2</td>\n",
       "      <td>1</td>\n",
       "      <td>40.0</td>\n",
       "      <td>0.0</td>\n",
       "      <td>0.0</td>\n",
       "      <td>0.0</td>\n",
       "      <td>0.0</td>\n",
       "      <td>0</td>\n",
       "      <td>0</td>\n",
       "      <td>49073.0</td>\n",
       "      <td>49531.0</td>\n",
       "      <td>44002.0</td>\n",
       "      <td>44356.0</td>\n",
       "      <td>19344.0</td>\n",
       "      <td>19354.0</td>\n",
       "      <td>1691.0</td>\n",
       "      <td>1942.0</td>\n",
       "      <td>1296.0</td>\n",
       "      <td>674.0</td>\n",
       "      <td>693.0</td>\n",
       "      <td>1000.0</td>\n",
       "      <td>0</td>\n",
       "    </tr>\n",
       "    <tr>\n",
       "      <th>7</th>\n",
       "      <td>100000.0</td>\n",
       "      <td>1</td>\n",
       "      <td>5</td>\n",
       "      <td>1</td>\n",
       "      <td>45.0</td>\n",
       "      <td>0.0</td>\n",
       "      <td>0.0</td>\n",
       "      <td>0.0</td>\n",
       "      <td>0.0</td>\n",
       "      <td>0</td>\n",
       "      <td>0</td>\n",
       "      <td>94502.0</td>\n",
       "      <td>95697.0</td>\n",
       "      <td>98222.0</td>\n",
       "      <td>90500.0</td>\n",
       "      <td>82586.0</td>\n",
       "      <td>22620.0</td>\n",
       "      <td>5000.0</td>\n",
       "      <td>5000.0</td>\n",
       "      <td>3203.0</td>\n",
       "      <td>2103.0</td>\n",
       "      <td>50000.0</td>\n",
       "      <td>0.0</td>\n",
       "      <td>0</td>\n",
       "    </tr>\n",
       "    <tr>\n",
       "      <th>8</th>\n",
       "      <td>140000.0</td>\n",
       "      <td>1</td>\n",
       "      <td>2</td>\n",
       "      <td>1</td>\n",
       "      <td>29.0</td>\n",
       "      <td>0.0</td>\n",
       "      <td>0.0</td>\n",
       "      <td>0.0</td>\n",
       "      <td>0.0</td>\n",
       "      <td>0</td>\n",
       "      <td>0</td>\n",
       "      <td>130767.0</td>\n",
       "      <td>134946.0</td>\n",
       "      <td>130470.0</td>\n",
       "      <td>132038.0</td>\n",
       "      <td>131961.0</td>\n",
       "      <td>124256.0</td>\n",
       "      <td>6696.0</td>\n",
       "      <td>5000.0</td>\n",
       "      <td>4866.0</td>\n",
       "      <td>5300.0</td>\n",
       "      <td>5055.0</td>\n",
       "      <td>5000.0</td>\n",
       "      <td>0</td>\n",
       "    </tr>\n",
       "    <tr>\n",
       "      <th>9</th>\n",
       "      <td>50000.0</td>\n",
       "      <td>1</td>\n",
       "      <td>2</td>\n",
       "      <td>1</td>\n",
       "      <td>43.0</td>\n",
       "      <td>0.0</td>\n",
       "      <td>0.0</td>\n",
       "      <td>0.0</td>\n",
       "      <td>0.0</td>\n",
       "      <td>0</td>\n",
       "      <td>0</td>\n",
       "      <td>48919.0</td>\n",
       "      <td>48775.0</td>\n",
       "      <td>48731.0</td>\n",
       "      <td>48934.0</td>\n",
       "      <td>29116.0</td>\n",
       "      <td>28999.0</td>\n",
       "      <td>1800.0</td>\n",
       "      <td>2200.0</td>\n",
       "      <td>1400.0</td>\n",
       "      <td>582.0</td>\n",
       "      <td>580.0</td>\n",
       "      <td>30000.0</td>\n",
       "      <td>0</td>\n",
       "    </tr>\n",
       "  </tbody>\n",
       "</table>\n",
       "</div>"
      ],
      "text/plain": [
       "   limit_balance  sex  education_level  marital_status   age  pay_0  pay_2  \\\n",
       "0       130000.0    1                1               1  45.0    0.0    0.0   \n",
       "1       230000.0    1                2               1  41.0    0.0    0.0   \n",
       "2       200000.0    1                1               1  58.0    0.0    0.0   \n",
       "3       500000.0    1                1               1  39.0    0.0    0.0   \n",
       "4       230000.0    1                1               1  48.0    0.0    0.0   \n",
       "5       500000.0    1                2               1  41.0    0.0    0.0   \n",
       "6        50000.0    1                2               1  40.0    0.0    0.0   \n",
       "7       100000.0    1                5               1  45.0    0.0    0.0   \n",
       "8       140000.0    1                2               1  29.0    0.0    0.0   \n",
       "9        50000.0    1                2               1  43.0    0.0    0.0   \n",
       "\n",
       "   pay_3  pay_4  pay_5  pay_6  bill_amt_1  bill_amt_2  bill_amt_3  bill_amt_4  \\\n",
       "0    0.0    0.0      0      0     58180.0     59134.0     61156.0     62377.0   \n",
       "1    0.0    0.0      0      0    301038.0    305327.0    213058.0    216260.0   \n",
       "2    0.0    0.0      0      0    192461.0    195970.0    122214.0    124647.0   \n",
       "3    0.0    0.0      0      0    133598.0    167378.0    171106.0    174500.0   \n",
       "4    0.0    0.0      0      0    160879.0    161797.0    165107.0    105508.0   \n",
       "5    0.0    0.0      0      0    155820.0    171565.0    184782.0    152365.0   \n",
       "6    0.0    0.0      0      0     49073.0     49531.0     44002.0     44356.0   \n",
       "7    0.0    0.0      0      0     94502.0     95697.0     98222.0     90500.0   \n",
       "8    0.0    0.0      0      0    130767.0    134946.0    130470.0    132038.0   \n",
       "9    0.0    0.0      0      0     48919.0     48775.0     48731.0     48934.0   \n",
       "\n",
       "   bill_amt_5  bill_amt_6  pay_amt_1  pay_amt_2  pay_amt_3  pay_amt_4  \\\n",
       "0     63832.0     65099.0     2886.0     2908.0     2129.0     2354.0   \n",
       "1    215968.0    174195.0     9405.0     7769.0     7757.0     8030.0   \n",
       "2    126921.0    129167.0     7822.0     4417.0     4446.0     4597.0   \n",
       "3    137406.0    204975.0    54209.0     4607.0     4603.0     5224.0   \n",
       "4    108101.0    110094.0     7000.0     6607.0     3773.0     4290.0   \n",
       "5    139757.0    153348.0    20000.0    20241.0    20154.0    20019.0   \n",
       "6     19344.0     19354.0     1691.0     1942.0     1296.0      674.0   \n",
       "7     82586.0     22620.0     5000.0     5000.0     3203.0     2103.0   \n",
       "8    131961.0    124256.0     6696.0     5000.0     4866.0     5300.0   \n",
       "9     29116.0     28999.0     1800.0     2200.0     1400.0      582.0   \n",
       "\n",
       "   pay_amt_5  pay_amt_6  default_payment_next_month  \n",
       "0     2366.0     2291.0                           0  \n",
       "1     6549.0     5226.0                           1  \n",
       "2     4677.0     4698.0                           0  \n",
       "3   207440.0     7509.0                           0  \n",
       "4     4164.0     2000.0                           0  \n",
       "5    20151.0    20037.0                           0  \n",
       "6      693.0     1000.0                           0  \n",
       "7    50000.0        0.0                           0  \n",
       "8     5055.0     5000.0                           0  \n",
       "9      580.0    30000.0                           0  "
      ]
     },
     "execution_count": 634,
     "metadata": {},
     "output_type": "execute_result"
    }
   ],
   "source": [
    "# memanggil data dengan pd.read dan menampilkan 10 data teratas\n",
    "\n",
    "df = pd.read_csv('h8dsft_P1M1_Julio_Muhammad_Rizki.csv')\n",
    "df.head(10)"
   ]
  },
  {
   "cell_type": "code",
   "execution_count": 635,
   "metadata": {},
   "outputs": [
    {
     "data": {
      "text/html": [
       "<div>\n",
       "<style scoped>\n",
       "    .dataframe tbody tr th:only-of-type {\n",
       "        vertical-align: middle;\n",
       "    }\n",
       "\n",
       "    .dataframe tbody tr th {\n",
       "        vertical-align: top;\n",
       "    }\n",
       "\n",
       "    .dataframe thead th {\n",
       "        text-align: right;\n",
       "    }\n",
       "</style>\n",
       "<table border=\"1\" class=\"dataframe\">\n",
       "  <thead>\n",
       "    <tr style=\"text-align: right;\">\n",
       "      <th></th>\n",
       "      <th>limit_balance</th>\n",
       "      <th>sex</th>\n",
       "      <th>education_level</th>\n",
       "      <th>marital_status</th>\n",
       "      <th>age</th>\n",
       "      <th>pay_0</th>\n",
       "      <th>pay_2</th>\n",
       "      <th>pay_3</th>\n",
       "      <th>pay_4</th>\n",
       "      <th>pay_5</th>\n",
       "      <th>pay_6</th>\n",
       "      <th>bill_amt_1</th>\n",
       "      <th>bill_amt_2</th>\n",
       "      <th>bill_amt_3</th>\n",
       "      <th>bill_amt_4</th>\n",
       "      <th>bill_amt_5</th>\n",
       "      <th>bill_amt_6</th>\n",
       "      <th>pay_amt_1</th>\n",
       "      <th>pay_amt_2</th>\n",
       "      <th>pay_amt_3</th>\n",
       "      <th>pay_amt_4</th>\n",
       "      <th>pay_amt_5</th>\n",
       "      <th>pay_amt_6</th>\n",
       "      <th>default_payment_next_month</th>\n",
       "    </tr>\n",
       "  </thead>\n",
       "  <tbody>\n",
       "    <tr>\n",
       "      <th>2955</th>\n",
       "      <td>300000.0</td>\n",
       "      <td>2</td>\n",
       "      <td>2</td>\n",
       "      <td>1</td>\n",
       "      <td>28.0</td>\n",
       "      <td>-1.0</td>\n",
       "      <td>-1.0</td>\n",
       "      <td>-1.0</td>\n",
       "      <td>-1.0</td>\n",
       "      <td>-2</td>\n",
       "      <td>-2</td>\n",
       "      <td>16666.0</td>\n",
       "      <td>1000.0</td>\n",
       "      <td>16666.0</td>\n",
       "      <td>0.0</td>\n",
       "      <td>0.0</td>\n",
       "      <td>0.0</td>\n",
       "      <td>1000.0</td>\n",
       "      <td>16666.0</td>\n",
       "      <td>0.0</td>\n",
       "      <td>0.0</td>\n",
       "      <td>0.0</td>\n",
       "      <td>0.0</td>\n",
       "      <td>0</td>\n",
       "    </tr>\n",
       "    <tr>\n",
       "      <th>2956</th>\n",
       "      <td>200000.0</td>\n",
       "      <td>2</td>\n",
       "      <td>1</td>\n",
       "      <td>1</td>\n",
       "      <td>49.0</td>\n",
       "      <td>-1.0</td>\n",
       "      <td>-1.0</td>\n",
       "      <td>-1.0</td>\n",
       "      <td>-1.0</td>\n",
       "      <td>-2</td>\n",
       "      <td>-2</td>\n",
       "      <td>413.0</td>\n",
       "      <td>0.0</td>\n",
       "      <td>103.0</td>\n",
       "      <td>0.0</td>\n",
       "      <td>0.0</td>\n",
       "      <td>0.0</td>\n",
       "      <td>0.0</td>\n",
       "      <td>103.0</td>\n",
       "      <td>0.0</td>\n",
       "      <td>0.0</td>\n",
       "      <td>0.0</td>\n",
       "      <td>225.0</td>\n",
       "      <td>0</td>\n",
       "    </tr>\n",
       "    <tr>\n",
       "      <th>2957</th>\n",
       "      <td>50000.0</td>\n",
       "      <td>2</td>\n",
       "      <td>1</td>\n",
       "      <td>2</td>\n",
       "      <td>31.0</td>\n",
       "      <td>-1.0</td>\n",
       "      <td>0.0</td>\n",
       "      <td>-1.0</td>\n",
       "      <td>-1.0</td>\n",
       "      <td>-1</td>\n",
       "      <td>-2</td>\n",
       "      <td>12725.0</td>\n",
       "      <td>34526.0</td>\n",
       "      <td>12787.0</td>\n",
       "      <td>3995.0</td>\n",
       "      <td>0.0</td>\n",
       "      <td>0.0</td>\n",
       "      <td>30018.0</td>\n",
       "      <td>12787.0</td>\n",
       "      <td>3995.0</td>\n",
       "      <td>0.0</td>\n",
       "      <td>0.0</td>\n",
       "      <td>0.0</td>\n",
       "      <td>0</td>\n",
       "    </tr>\n",
       "    <tr>\n",
       "      <th>2958</th>\n",
       "      <td>50000.0</td>\n",
       "      <td>2</td>\n",
       "      <td>1</td>\n",
       "      <td>2</td>\n",
       "      <td>25.0</td>\n",
       "      <td>-1.0</td>\n",
       "      <td>-1.0</td>\n",
       "      <td>2.0</td>\n",
       "      <td>-1.0</td>\n",
       "      <td>-1</td>\n",
       "      <td>-2</td>\n",
       "      <td>13572.0</td>\n",
       "      <td>17983.0</td>\n",
       "      <td>15590.0</td>\n",
       "      <td>10610.0</td>\n",
       "      <td>0.0</td>\n",
       "      <td>0.0</td>\n",
       "      <td>5000.0</td>\n",
       "      <td>200.0</td>\n",
       "      <td>10610.0</td>\n",
       "      <td>0.0</td>\n",
       "      <td>0.0</td>\n",
       "      <td>0.0</td>\n",
       "      <td>0</td>\n",
       "    </tr>\n",
       "    <tr>\n",
       "      <th>2959</th>\n",
       "      <td>100000.0</td>\n",
       "      <td>2</td>\n",
       "      <td>1</td>\n",
       "      <td>2</td>\n",
       "      <td>37.0</td>\n",
       "      <td>-1.0</td>\n",
       "      <td>-1.0</td>\n",
       "      <td>0.0</td>\n",
       "      <td>-1.0</td>\n",
       "      <td>-1</td>\n",
       "      <td>-2</td>\n",
       "      <td>1725.0</td>\n",
       "      <td>21711.0</td>\n",
       "      <td>10487.0</td>\n",
       "      <td>780.0</td>\n",
       "      <td>0.0</td>\n",
       "      <td>0.0</td>\n",
       "      <td>21711.0</td>\n",
       "      <td>1000.0</td>\n",
       "      <td>780.0</td>\n",
       "      <td>0.0</td>\n",
       "      <td>0.0</td>\n",
       "      <td>0.0</td>\n",
       "      <td>0</td>\n",
       "    </tr>\n",
       "    <tr>\n",
       "      <th>2960</th>\n",
       "      <td>30000.0</td>\n",
       "      <td>2</td>\n",
       "      <td>3</td>\n",
       "      <td>2</td>\n",
       "      <td>50.0</td>\n",
       "      <td>-1.0</td>\n",
       "      <td>-1.0</td>\n",
       "      <td>2.0</td>\n",
       "      <td>-1.0</td>\n",
       "      <td>-1</td>\n",
       "      <td>-2</td>\n",
       "      <td>178.0</td>\n",
       "      <td>1860.0</td>\n",
       "      <td>940.0</td>\n",
       "      <td>1110.0</td>\n",
       "      <td>0.0</td>\n",
       "      <td>0.0</td>\n",
       "      <td>1860.0</td>\n",
       "      <td>0.0</td>\n",
       "      <td>1110.0</td>\n",
       "      <td>0.0</td>\n",
       "      <td>0.0</td>\n",
       "      <td>0.0</td>\n",
       "      <td>1</td>\n",
       "    </tr>\n",
       "    <tr>\n",
       "      <th>2961</th>\n",
       "      <td>20000.0</td>\n",
       "      <td>2</td>\n",
       "      <td>1</td>\n",
       "      <td>2</td>\n",
       "      <td>25.0</td>\n",
       "      <td>-1.0</td>\n",
       "      <td>-1.0</td>\n",
       "      <td>-1.0</td>\n",
       "      <td>-1.0</td>\n",
       "      <td>-1</td>\n",
       "      <td>-2</td>\n",
       "      <td>2650.0</td>\n",
       "      <td>0.0</td>\n",
       "      <td>855.0</td>\n",
       "      <td>640.0</td>\n",
       "      <td>0.0</td>\n",
       "      <td>0.0</td>\n",
       "      <td>0.0</td>\n",
       "      <td>855.0</td>\n",
       "      <td>640.0</td>\n",
       "      <td>0.0</td>\n",
       "      <td>0.0</td>\n",
       "      <td>2742.0</td>\n",
       "      <td>0</td>\n",
       "    </tr>\n",
       "    <tr>\n",
       "      <th>2962</th>\n",
       "      <td>280000.0</td>\n",
       "      <td>2</td>\n",
       "      <td>1</td>\n",
       "      <td>2</td>\n",
       "      <td>52.0</td>\n",
       "      <td>-1.0</td>\n",
       "      <td>-1.0</td>\n",
       "      <td>-1.0</td>\n",
       "      <td>-1.0</td>\n",
       "      <td>-2</td>\n",
       "      <td>-2</td>\n",
       "      <td>886.0</td>\n",
       "      <td>0.0</td>\n",
       "      <td>930.0</td>\n",
       "      <td>0.0</td>\n",
       "      <td>0.0</td>\n",
       "      <td>0.0</td>\n",
       "      <td>0.0</td>\n",
       "      <td>930.0</td>\n",
       "      <td>0.0</td>\n",
       "      <td>0.0</td>\n",
       "      <td>0.0</td>\n",
       "      <td>0.0</td>\n",
       "      <td>0</td>\n",
       "    </tr>\n",
       "    <tr>\n",
       "      <th>2963</th>\n",
       "      <td>360000.0</td>\n",
       "      <td>2</td>\n",
       "      <td>2</td>\n",
       "      <td>2</td>\n",
       "      <td>26.0</td>\n",
       "      <td>-1.0</td>\n",
       "      <td>-1.0</td>\n",
       "      <td>-1.0</td>\n",
       "      <td>-1.0</td>\n",
       "      <td>-2</td>\n",
       "      <td>-2</td>\n",
       "      <td>1968.0</td>\n",
       "      <td>459.0</td>\n",
       "      <td>2500.0</td>\n",
       "      <td>0.0</td>\n",
       "      <td>0.0</td>\n",
       "      <td>0.0</td>\n",
       "      <td>463.0</td>\n",
       "      <td>2500.0</td>\n",
       "      <td>0.0</td>\n",
       "      <td>0.0</td>\n",
       "      <td>0.0</td>\n",
       "      <td>0.0</td>\n",
       "      <td>0</td>\n",
       "    </tr>\n",
       "    <tr>\n",
       "      <th>2964</th>\n",
       "      <td>100000.0</td>\n",
       "      <td>2</td>\n",
       "      <td>1</td>\n",
       "      <td>2</td>\n",
       "      <td>30.0</td>\n",
       "      <td>-1.0</td>\n",
       "      <td>-1.0</td>\n",
       "      <td>-1.0</td>\n",
       "      <td>-1.0</td>\n",
       "      <td>-2</td>\n",
       "      <td>-2</td>\n",
       "      <td>430.0</td>\n",
       "      <td>35993.0</td>\n",
       "      <td>2772.0</td>\n",
       "      <td>0.0</td>\n",
       "      <td>0.0</td>\n",
       "      <td>0.0</td>\n",
       "      <td>35993.0</td>\n",
       "      <td>2772.0</td>\n",
       "      <td>0.0</td>\n",
       "      <td>0.0</td>\n",
       "      <td>0.0</td>\n",
       "      <td>0.0</td>\n",
       "      <td>0</td>\n",
       "    </tr>\n",
       "  </tbody>\n",
       "</table>\n",
       "</div>"
      ],
      "text/plain": [
       "      limit_balance  sex  education_level  marital_status   age  pay_0  pay_2  \\\n",
       "2955       300000.0    2                2               1  28.0   -1.0   -1.0   \n",
       "2956       200000.0    2                1               1  49.0   -1.0   -1.0   \n",
       "2957        50000.0    2                1               2  31.0   -1.0    0.0   \n",
       "2958        50000.0    2                1               2  25.0   -1.0   -1.0   \n",
       "2959       100000.0    2                1               2  37.0   -1.0   -1.0   \n",
       "2960        30000.0    2                3               2  50.0   -1.0   -1.0   \n",
       "2961        20000.0    2                1               2  25.0   -1.0   -1.0   \n",
       "2962       280000.0    2                1               2  52.0   -1.0   -1.0   \n",
       "2963       360000.0    2                2               2  26.0   -1.0   -1.0   \n",
       "2964       100000.0    2                1               2  30.0   -1.0   -1.0   \n",
       "\n",
       "      pay_3  pay_4  pay_5  pay_6  bill_amt_1  bill_amt_2  bill_amt_3  \\\n",
       "2955   -1.0   -1.0     -2     -2     16666.0      1000.0     16666.0   \n",
       "2956   -1.0   -1.0     -2     -2       413.0         0.0       103.0   \n",
       "2957   -1.0   -1.0     -1     -2     12725.0     34526.0     12787.0   \n",
       "2958    2.0   -1.0     -1     -2     13572.0     17983.0     15590.0   \n",
       "2959    0.0   -1.0     -1     -2      1725.0     21711.0     10487.0   \n",
       "2960    2.0   -1.0     -1     -2       178.0      1860.0       940.0   \n",
       "2961   -1.0   -1.0     -1     -2      2650.0         0.0       855.0   \n",
       "2962   -1.0   -1.0     -2     -2       886.0         0.0       930.0   \n",
       "2963   -1.0   -1.0     -2     -2      1968.0       459.0      2500.0   \n",
       "2964   -1.0   -1.0     -2     -2       430.0     35993.0      2772.0   \n",
       "\n",
       "      bill_amt_4  bill_amt_5  bill_amt_6  pay_amt_1  pay_amt_2  pay_amt_3  \\\n",
       "2955         0.0         0.0         0.0     1000.0    16666.0        0.0   \n",
       "2956         0.0         0.0         0.0        0.0      103.0        0.0   \n",
       "2957      3995.0         0.0         0.0    30018.0    12787.0     3995.0   \n",
       "2958     10610.0         0.0         0.0     5000.0      200.0    10610.0   \n",
       "2959       780.0         0.0         0.0    21711.0     1000.0      780.0   \n",
       "2960      1110.0         0.0         0.0     1860.0        0.0     1110.0   \n",
       "2961       640.0         0.0         0.0        0.0      855.0      640.0   \n",
       "2962         0.0         0.0         0.0        0.0      930.0        0.0   \n",
       "2963         0.0         0.0         0.0      463.0     2500.0        0.0   \n",
       "2964         0.0         0.0         0.0    35993.0     2772.0        0.0   \n",
       "\n",
       "      pay_amt_4  pay_amt_5  pay_amt_6  default_payment_next_month  \n",
       "2955        0.0        0.0        0.0                           0  \n",
       "2956        0.0        0.0      225.0                           0  \n",
       "2957        0.0        0.0        0.0                           0  \n",
       "2958        0.0        0.0        0.0                           0  \n",
       "2959        0.0        0.0        0.0                           0  \n",
       "2960        0.0        0.0        0.0                           1  \n",
       "2961        0.0        0.0     2742.0                           0  \n",
       "2962        0.0        0.0        0.0                           0  \n",
       "2963        0.0        0.0        0.0                           0  \n",
       "2964        0.0        0.0        0.0                           0  "
      ]
     },
     "execution_count": 635,
     "metadata": {},
     "output_type": "execute_result"
    }
   ],
   "source": [
    "# menampilkan 10 data terbawah\n",
    " \n",
    "df.tail(10)"
   ]
  },
  {
   "attachments": {},
   "cell_type": "markdown",
   "metadata": {},
   "source": [
    "Berikutnya peneliti melakukan pengecekan pada data yang mengalami missing value dan data duplikat."
   ]
  },
  {
   "cell_type": "code",
   "execution_count": 636,
   "metadata": {},
   "outputs": [
    {
     "data": {
      "text/plain": [
       "0"
      ]
     },
     "execution_count": 636,
     "metadata": {},
     "output_type": "execute_result"
    }
   ],
   "source": [
    "df.isnull().sum().sum()"
   ]
  },
  {
   "cell_type": "code",
   "execution_count": 637,
   "metadata": {},
   "outputs": [
    {
     "data": {
      "text/html": [
       "<div>\n",
       "<style scoped>\n",
       "    .dataframe tbody tr th:only-of-type {\n",
       "        vertical-align: middle;\n",
       "    }\n",
       "\n",
       "    .dataframe tbody tr th {\n",
       "        vertical-align: top;\n",
       "    }\n",
       "\n",
       "    .dataframe thead th {\n",
       "        text-align: right;\n",
       "    }\n",
       "</style>\n",
       "<table border=\"1\" class=\"dataframe\">\n",
       "  <thead>\n",
       "    <tr style=\"text-align: right;\">\n",
       "      <th></th>\n",
       "      <th>limit_balance</th>\n",
       "      <th>sex</th>\n",
       "      <th>education_level</th>\n",
       "      <th>marital_status</th>\n",
       "      <th>age</th>\n",
       "      <th>pay_0</th>\n",
       "      <th>pay_2</th>\n",
       "      <th>pay_3</th>\n",
       "      <th>pay_4</th>\n",
       "      <th>pay_5</th>\n",
       "      <th>pay_6</th>\n",
       "      <th>bill_amt_1</th>\n",
       "      <th>bill_amt_2</th>\n",
       "      <th>bill_amt_3</th>\n",
       "      <th>bill_amt_4</th>\n",
       "      <th>bill_amt_5</th>\n",
       "      <th>bill_amt_6</th>\n",
       "      <th>pay_amt_1</th>\n",
       "      <th>pay_amt_2</th>\n",
       "      <th>pay_amt_3</th>\n",
       "      <th>pay_amt_4</th>\n",
       "      <th>pay_amt_5</th>\n",
       "      <th>pay_amt_6</th>\n",
       "      <th>default_payment_next_month</th>\n",
       "    </tr>\n",
       "  </thead>\n",
       "  <tbody>\n",
       "    <tr>\n",
       "      <th>2381</th>\n",
       "      <td>200000.0</td>\n",
       "      <td>2</td>\n",
       "      <td>1</td>\n",
       "      <td>1</td>\n",
       "      <td>34.0</td>\n",
       "      <td>1.0</td>\n",
       "      <td>-2.0</td>\n",
       "      <td>-2.0</td>\n",
       "      <td>-2.0</td>\n",
       "      <td>-2</td>\n",
       "      <td>-2</td>\n",
       "      <td>0.0</td>\n",
       "      <td>0.0</td>\n",
       "      <td>0.0</td>\n",
       "      <td>0.0</td>\n",
       "      <td>0.0</td>\n",
       "      <td>0.0</td>\n",
       "      <td>0.0</td>\n",
       "      <td>0.0</td>\n",
       "      <td>0.0</td>\n",
       "      <td>0.0</td>\n",
       "      <td>0.0</td>\n",
       "      <td>0.0</td>\n",
       "      <td>0</td>\n",
       "    </tr>\n",
       "  </tbody>\n",
       "</table>\n",
       "</div>"
      ],
      "text/plain": [
       "      limit_balance  sex  education_level  marital_status   age  pay_0  pay_2  \\\n",
       "2381       200000.0    2                1               1  34.0    1.0   -2.0   \n",
       "\n",
       "      pay_3  pay_4  pay_5  pay_6  bill_amt_1  bill_amt_2  bill_amt_3  \\\n",
       "2381   -2.0   -2.0     -2     -2         0.0         0.0         0.0   \n",
       "\n",
       "      bill_amt_4  bill_amt_5  bill_amt_6  pay_amt_1  pay_amt_2  pay_amt_3  \\\n",
       "2381         0.0         0.0         0.0        0.0        0.0        0.0   \n",
       "\n",
       "      pay_amt_4  pay_amt_5  pay_amt_6  default_payment_next_month  \n",
       "2381        0.0        0.0        0.0                           0  "
      ]
     },
     "execution_count": 637,
     "metadata": {},
     "output_type": "execute_result"
    }
   ],
   "source": [
    "df[df.duplicated()]"
   ]
  },
  {
   "attachments": {},
   "cell_type": "markdown",
   "metadata": {},
   "source": [
    "Karena ditemukan data yang duplikat, peneliti memutuskan untuk membuang index data tersebut."
   ]
  },
  {
   "cell_type": "code",
   "execution_count": 638,
   "metadata": {},
   "outputs": [
    {
     "data": {
      "text/plain": [
       "(0, 24)"
      ]
     },
     "execution_count": 638,
     "metadata": {},
     "output_type": "execute_result"
    }
   ],
   "source": [
    "df.drop_duplicates(inplace=True)\n",
    "\n",
    "df[df.duplicated()].shape"
   ]
  },
  {
   "cell_type": "code",
   "execution_count": 639,
   "metadata": {},
   "outputs": [
    {
     "data": {
      "text/html": [
       "<div>\n",
       "<style scoped>\n",
       "    .dataframe tbody tr th:only-of-type {\n",
       "        vertical-align: middle;\n",
       "    }\n",
       "\n",
       "    .dataframe tbody tr th {\n",
       "        vertical-align: top;\n",
       "    }\n",
       "\n",
       "    .dataframe thead th {\n",
       "        text-align: right;\n",
       "    }\n",
       "</style>\n",
       "<table border=\"1\" class=\"dataframe\">\n",
       "  <thead>\n",
       "    <tr style=\"text-align: right;\">\n",
       "      <th></th>\n",
       "      <th>count</th>\n",
       "      <th>mean</th>\n",
       "      <th>std</th>\n",
       "      <th>min</th>\n",
       "      <th>25%</th>\n",
       "      <th>50%</th>\n",
       "      <th>75%</th>\n",
       "      <th>max</th>\n",
       "    </tr>\n",
       "  </thead>\n",
       "  <tbody>\n",
       "    <tr>\n",
       "      <th>limit_balance</th>\n",
       "      <td>2964.0</td>\n",
       "      <td>163356.950067</td>\n",
       "      <td>125049.701016</td>\n",
       "      <td>10000.0</td>\n",
       "      <td>50000.00</td>\n",
       "      <td>140000.0</td>\n",
       "      <td>230000.00</td>\n",
       "      <td>800000.0</td>\n",
       "    </tr>\n",
       "    <tr>\n",
       "      <th>sex</th>\n",
       "      <td>2964.0</td>\n",
       "      <td>1.607625</td>\n",
       "      <td>0.488362</td>\n",
       "      <td>1.0</td>\n",
       "      <td>1.00</td>\n",
       "      <td>2.0</td>\n",
       "      <td>2.00</td>\n",
       "      <td>2.0</td>\n",
       "    </tr>\n",
       "    <tr>\n",
       "      <th>education_level</th>\n",
       "      <td>2964.0</td>\n",
       "      <td>1.849865</td>\n",
       "      <td>0.778159</td>\n",
       "      <td>0.0</td>\n",
       "      <td>1.00</td>\n",
       "      <td>2.0</td>\n",
       "      <td>2.00</td>\n",
       "      <td>6.0</td>\n",
       "    </tr>\n",
       "    <tr>\n",
       "      <th>marital_status</th>\n",
       "      <td>2964.0</td>\n",
       "      <td>1.560054</td>\n",
       "      <td>0.522304</td>\n",
       "      <td>0.0</td>\n",
       "      <td>1.00</td>\n",
       "      <td>2.0</td>\n",
       "      <td>2.00</td>\n",
       "      <td>3.0</td>\n",
       "    </tr>\n",
       "    <tr>\n",
       "      <th>age</th>\n",
       "      <td>2964.0</td>\n",
       "      <td>35.193657</td>\n",
       "      <td>9.110949</td>\n",
       "      <td>21.0</td>\n",
       "      <td>28.00</td>\n",
       "      <td>34.0</td>\n",
       "      <td>41.00</td>\n",
       "      <td>69.0</td>\n",
       "    </tr>\n",
       "    <tr>\n",
       "      <th>pay_0</th>\n",
       "      <td>2964.0</td>\n",
       "      <td>0.004723</td>\n",
       "      <td>1.114434</td>\n",
       "      <td>-2.0</td>\n",
       "      <td>-1.00</td>\n",
       "      <td>0.0</td>\n",
       "      <td>0.00</td>\n",
       "      <td>8.0</td>\n",
       "    </tr>\n",
       "    <tr>\n",
       "      <th>pay_2</th>\n",
       "      <td>2964.0</td>\n",
       "      <td>-0.121795</td>\n",
       "      <td>1.180479</td>\n",
       "      <td>-2.0</td>\n",
       "      <td>-1.00</td>\n",
       "      <td>0.0</td>\n",
       "      <td>0.00</td>\n",
       "      <td>7.0</td>\n",
       "    </tr>\n",
       "    <tr>\n",
       "      <th>pay_3</th>\n",
       "      <td>2964.0</td>\n",
       "      <td>-0.141026</td>\n",
       "      <td>1.183337</td>\n",
       "      <td>-2.0</td>\n",
       "      <td>-1.00</td>\n",
       "      <td>0.0</td>\n",
       "      <td>0.00</td>\n",
       "      <td>7.0</td>\n",
       "    </tr>\n",
       "    <tr>\n",
       "      <th>pay_4</th>\n",
       "      <td>2964.0</td>\n",
       "      <td>-0.184548</td>\n",
       "      <td>1.178049</td>\n",
       "      <td>-2.0</td>\n",
       "      <td>-1.00</td>\n",
       "      <td>0.0</td>\n",
       "      <td>0.00</td>\n",
       "      <td>8.0</td>\n",
       "    </tr>\n",
       "    <tr>\n",
       "      <th>pay_5</th>\n",
       "      <td>2964.0</td>\n",
       "      <td>-0.224696</td>\n",
       "      <td>1.158739</td>\n",
       "      <td>-2.0</td>\n",
       "      <td>-1.00</td>\n",
       "      <td>0.0</td>\n",
       "      <td>0.00</td>\n",
       "      <td>7.0</td>\n",
       "    </tr>\n",
       "    <tr>\n",
       "      <th>pay_6</th>\n",
       "      <td>2964.0</td>\n",
       "      <td>-0.254049</td>\n",
       "      <td>1.167061</td>\n",
       "      <td>-2.0</td>\n",
       "      <td>-1.00</td>\n",
       "      <td>0.0</td>\n",
       "      <td>0.00</td>\n",
       "      <td>7.0</td>\n",
       "    </tr>\n",
       "    <tr>\n",
       "      <th>bill_amt_1</th>\n",
       "      <td>2964.0</td>\n",
       "      <td>52135.889001</td>\n",
       "      <td>72334.536115</td>\n",
       "      <td>-11545.0</td>\n",
       "      <td>3979.75</td>\n",
       "      <td>24325.0</td>\n",
       "      <td>69863.00</td>\n",
       "      <td>613860.0</td>\n",
       "    </tr>\n",
       "    <tr>\n",
       "      <th>bill_amt_2</th>\n",
       "      <td>2964.0</td>\n",
       "      <td>50666.241228</td>\n",
       "      <td>70790.828470</td>\n",
       "      <td>-67526.0</td>\n",
       "      <td>3403.50</td>\n",
       "      <td>23169.0</td>\n",
       "      <td>67836.25</td>\n",
       "      <td>512650.0</td>\n",
       "    </tr>\n",
       "    <tr>\n",
       "      <th>bill_amt_3</th>\n",
       "      <td>2964.0</td>\n",
       "      <td>48256.032726</td>\n",
       "      <td>68151.445516</td>\n",
       "      <td>-25443.0</td>\n",
       "      <td>3311.75</td>\n",
       "      <td>21549.5</td>\n",
       "      <td>63034.50</td>\n",
       "      <td>578971.0</td>\n",
       "    </tr>\n",
       "    <tr>\n",
       "      <th>bill_amt_4</th>\n",
       "      <td>2964.0</td>\n",
       "      <td>44104.558367</td>\n",
       "      <td>61912.600106</td>\n",
       "      <td>-46627.0</td>\n",
       "      <td>2585.00</td>\n",
       "      <td>19895.0</td>\n",
       "      <td>58638.50</td>\n",
       "      <td>488808.0</td>\n",
       "    </tr>\n",
       "    <tr>\n",
       "      <th>bill_amt_5</th>\n",
       "      <td>2964.0</td>\n",
       "      <td>40969.898448</td>\n",
       "      <td>58276.878626</td>\n",
       "      <td>-46627.0</td>\n",
       "      <td>1974.50</td>\n",
       "      <td>18819.5</td>\n",
       "      <td>53414.50</td>\n",
       "      <td>441981.0</td>\n",
       "    </tr>\n",
       "    <tr>\n",
       "      <th>bill_amt_6</th>\n",
       "      <td>2964.0</td>\n",
       "      <td>39786.491228</td>\n",
       "      <td>57308.498646</td>\n",
       "      <td>-73895.0</td>\n",
       "      <td>1433.00</td>\n",
       "      <td>18511.5</td>\n",
       "      <td>52297.00</td>\n",
       "      <td>436172.0</td>\n",
       "    </tr>\n",
       "    <tr>\n",
       "      <th>pay_amt_1</th>\n",
       "      <td>2964.0</td>\n",
       "      <td>6351.044872</td>\n",
       "      <td>20888.933729</td>\n",
       "      <td>0.0</td>\n",
       "      <td>1013.00</td>\n",
       "      <td>2238.0</td>\n",
       "      <td>5089.50</td>\n",
       "      <td>493358.0</td>\n",
       "    </tr>\n",
       "    <tr>\n",
       "      <th>pay_amt_2</th>\n",
       "      <td>2964.0</td>\n",
       "      <td>6274.610661</td>\n",
       "      <td>28884.317574</td>\n",
       "      <td>0.0</td>\n",
       "      <td>997.50</td>\n",
       "      <td>2182.5</td>\n",
       "      <td>5000.00</td>\n",
       "      <td>1227082.0</td>\n",
       "    </tr>\n",
       "    <tr>\n",
       "      <th>pay_amt_3</th>\n",
       "      <td>2964.0</td>\n",
       "      <td>5152.234818</td>\n",
       "      <td>14289.177313</td>\n",
       "      <td>0.0</td>\n",
       "      <td>479.25</td>\n",
       "      <td>1997.0</td>\n",
       "      <td>4500.00</td>\n",
       "      <td>199209.0</td>\n",
       "    </tr>\n",
       "    <tr>\n",
       "      <th>pay_amt_4</th>\n",
       "      <td>2964.0</td>\n",
       "      <td>4562.914980</td>\n",
       "      <td>13283.476236</td>\n",
       "      <td>0.0</td>\n",
       "      <td>313.75</td>\n",
       "      <td>1600.0</td>\n",
       "      <td>4000.25</td>\n",
       "      <td>202076.0</td>\n",
       "    </tr>\n",
       "    <tr>\n",
       "      <th>pay_amt_5</th>\n",
       "      <td>2964.0</td>\n",
       "      <td>4914.944332</td>\n",
       "      <td>16736.920951</td>\n",
       "      <td>0.0</td>\n",
       "      <td>325.25</td>\n",
       "      <td>1646.5</td>\n",
       "      <td>4021.00</td>\n",
       "      <td>388071.0</td>\n",
       "    </tr>\n",
       "    <tr>\n",
       "      <th>pay_amt_6</th>\n",
       "      <td>2964.0</td>\n",
       "      <td>5384.517544</td>\n",
       "      <td>17278.585006</td>\n",
       "      <td>0.0</td>\n",
       "      <td>175.25</td>\n",
       "      <td>1626.5</td>\n",
       "      <td>4081.75</td>\n",
       "      <td>403500.0</td>\n",
       "    </tr>\n",
       "    <tr>\n",
       "      <th>default_payment_next_month</th>\n",
       "      <td>2964.0</td>\n",
       "      <td>0.214238</td>\n",
       "      <td>0.410362</td>\n",
       "      <td>0.0</td>\n",
       "      <td>0.00</td>\n",
       "      <td>0.0</td>\n",
       "      <td>0.00</td>\n",
       "      <td>1.0</td>\n",
       "    </tr>\n",
       "  </tbody>\n",
       "</table>\n",
       "</div>"
      ],
      "text/plain": [
       "                             count           mean            std      min  \\\n",
       "limit_balance               2964.0  163356.950067  125049.701016  10000.0   \n",
       "sex                         2964.0       1.607625       0.488362      1.0   \n",
       "education_level             2964.0       1.849865       0.778159      0.0   \n",
       "marital_status              2964.0       1.560054       0.522304      0.0   \n",
       "age                         2964.0      35.193657       9.110949     21.0   \n",
       "pay_0                       2964.0       0.004723       1.114434     -2.0   \n",
       "pay_2                       2964.0      -0.121795       1.180479     -2.0   \n",
       "pay_3                       2964.0      -0.141026       1.183337     -2.0   \n",
       "pay_4                       2964.0      -0.184548       1.178049     -2.0   \n",
       "pay_5                       2964.0      -0.224696       1.158739     -2.0   \n",
       "pay_6                       2964.0      -0.254049       1.167061     -2.0   \n",
       "bill_amt_1                  2964.0   52135.889001   72334.536115 -11545.0   \n",
       "bill_amt_2                  2964.0   50666.241228   70790.828470 -67526.0   \n",
       "bill_amt_3                  2964.0   48256.032726   68151.445516 -25443.0   \n",
       "bill_amt_4                  2964.0   44104.558367   61912.600106 -46627.0   \n",
       "bill_amt_5                  2964.0   40969.898448   58276.878626 -46627.0   \n",
       "bill_amt_6                  2964.0   39786.491228   57308.498646 -73895.0   \n",
       "pay_amt_1                   2964.0    6351.044872   20888.933729      0.0   \n",
       "pay_amt_2                   2964.0    6274.610661   28884.317574      0.0   \n",
       "pay_amt_3                   2964.0    5152.234818   14289.177313      0.0   \n",
       "pay_amt_4                   2964.0    4562.914980   13283.476236      0.0   \n",
       "pay_amt_5                   2964.0    4914.944332   16736.920951      0.0   \n",
       "pay_amt_6                   2964.0    5384.517544   17278.585006      0.0   \n",
       "default_payment_next_month  2964.0       0.214238       0.410362      0.0   \n",
       "\n",
       "                                 25%       50%        75%        max  \n",
       "limit_balance               50000.00  140000.0  230000.00   800000.0  \n",
       "sex                             1.00       2.0       2.00        2.0  \n",
       "education_level                 1.00       2.0       2.00        6.0  \n",
       "marital_status                  1.00       2.0       2.00        3.0  \n",
       "age                            28.00      34.0      41.00       69.0  \n",
       "pay_0                          -1.00       0.0       0.00        8.0  \n",
       "pay_2                          -1.00       0.0       0.00        7.0  \n",
       "pay_3                          -1.00       0.0       0.00        7.0  \n",
       "pay_4                          -1.00       0.0       0.00        8.0  \n",
       "pay_5                          -1.00       0.0       0.00        7.0  \n",
       "pay_6                          -1.00       0.0       0.00        7.0  \n",
       "bill_amt_1                   3979.75   24325.0   69863.00   613860.0  \n",
       "bill_amt_2                   3403.50   23169.0   67836.25   512650.0  \n",
       "bill_amt_3                   3311.75   21549.5   63034.50   578971.0  \n",
       "bill_amt_4                   2585.00   19895.0   58638.50   488808.0  \n",
       "bill_amt_5                   1974.50   18819.5   53414.50   441981.0  \n",
       "bill_amt_6                   1433.00   18511.5   52297.00   436172.0  \n",
       "pay_amt_1                    1013.00    2238.0    5089.50   493358.0  \n",
       "pay_amt_2                     997.50    2182.5    5000.00  1227082.0  \n",
       "pay_amt_3                     479.25    1997.0    4500.00   199209.0  \n",
       "pay_amt_4                     313.75    1600.0    4000.25   202076.0  \n",
       "pay_amt_5                     325.25    1646.5    4021.00   388071.0  \n",
       "pay_amt_6                     175.25    1626.5    4081.75   403500.0  \n",
       "default_payment_next_month      0.00       0.0       0.00        1.0  "
      ]
     },
     "execution_count": 639,
     "metadata": {},
     "output_type": "execute_result"
    }
   ],
   "source": [
    "df.describe().T"
   ]
  },
  {
   "attachments": {},
   "cell_type": "markdown",
   "metadata": {},
   "source": [
    "# Exploratory Data Analysis"
   ]
  },
  {
   "attachments": {},
   "cell_type": "markdown",
   "metadata": {},
   "source": [
    "Selanjutnya dilakukan eksplorasi sederhana terhadap data."
   ]
  },
  {
   "attachments": {},
   "cell_type": "markdown",
   "metadata": {},
   "source": [
    "Pertama, peneliti melihat korelasi dari antar variabel terhadap variabel target, yaitu default_payment_next_month"
   ]
  },
  {
   "cell_type": "code",
   "execution_count": 640,
   "metadata": {},
   "outputs": [
    {
     "name": "stdout",
     "output_type": "stream",
     "text": [
      "interval columns not set, guessing: ['limit_balance', 'sex', 'education_level', 'marital_status', 'age', 'pay_0', 'pay_2', 'pay_3', 'pay_4', 'pay_5', 'pay_6', 'bill_amt_1', 'bill_amt_2', 'bill_amt_3', 'bill_amt_4', 'bill_amt_5', 'bill_amt_6', 'pay_amt_1', 'pay_amt_2', 'pay_amt_3', 'pay_amt_4', 'pay_amt_5', 'pay_amt_6', 'default_payment_next_month']\n"
     ]
    }
   ],
   "source": [
    "# mendefine phik_val untuk melihat korelasi variabel lain terhadap variabel target\n",
    "\n",
    "phik_val = df.phik_matrix().default_payment_next_month"
   ]
  },
  {
   "cell_type": "code",
   "execution_count": 641,
   "metadata": {},
   "outputs": [
    {
     "data": {
      "text/plain": [
       "default_payment_next_month    1.000000\n",
       "pay_0                         0.596572\n",
       "pay_2                         0.468335\n",
       "pay_6                         0.386559\n",
       "pay_3                         0.334726\n",
       "pay_4                         0.318688\n",
       "pay_5                         0.315415\n",
       "limit_balance                 0.191907\n",
       "bill_amt_4                    0.087360\n",
       "education_level               0.085359\n",
       "pay_amt_3                     0.083774\n",
       "bill_amt_1                    0.073974\n",
       "bill_amt_3                    0.073073\n",
       "age                           0.067038\n",
       "bill_amt_2                    0.064086\n",
       "pay_amt_4                     0.062588\n",
       "pay_amt_1                     0.046866\n",
       "pay_amt_5                     0.022282\n",
       "marital_status                0.020055\n",
       "bill_amt_5                    0.019495\n",
       "sex                           0.015281\n",
       "pay_amt_2                     0.004992\n",
       "bill_amt_6                    0.000000\n",
       "pay_amt_6                     0.000000\n",
       "Name: default_payment_next_month, dtype: float64"
      ]
     },
     "execution_count": 641,
     "metadata": {},
     "output_type": "execute_result"
    }
   ],
   "source": [
    "# melihat korelasi phik_val, dilakukan sort dengan ascending\n",
    "\n",
    "phik_val.sort_values(ascending=False)"
   ]
  },
  {
   "attachments": {},
   "cell_type": "markdown",
   "metadata": {},
   "source": [
    "Peneliti memutuskan untuk membuang variabel-variabel dengan tingkat korelasi dibawah 0.1 terhadap variabel target."
   ]
  },
  {
   "cell_type": "code",
   "execution_count": 642,
   "metadata": {},
   "outputs": [
    {
     "data": {
      "text/plain": [
       "Index(['limit_balance', 'sex', 'education_level', 'marital_status', 'age',\n",
       "       'pay_0', 'pay_2', 'pay_3', 'pay_4', 'pay_5', 'pay_6', 'bill_amt_1',\n",
       "       'bill_amt_2', 'bill_amt_3', 'bill_amt_4', 'bill_amt_5', 'bill_amt_6',\n",
       "       'pay_amt_1', 'pay_amt_2', 'pay_amt_3', 'pay_amt_4', 'pay_amt_5',\n",
       "       'pay_amt_6', 'default_payment_next_month'],\n",
       "      dtype='object')"
      ]
     },
     "execution_count": 642,
     "metadata": {},
     "output_type": "execute_result"
    }
   ],
   "source": [
    "df.columns"
   ]
  },
  {
   "cell_type": "code",
   "execution_count": 643,
   "metadata": {},
   "outputs": [
    {
     "data": {
      "text/html": [
       "<div>\n",
       "<style scoped>\n",
       "    .dataframe tbody tr th:only-of-type {\n",
       "        vertical-align: middle;\n",
       "    }\n",
       "\n",
       "    .dataframe tbody tr th {\n",
       "        vertical-align: top;\n",
       "    }\n",
       "\n",
       "    .dataframe thead th {\n",
       "        text-align: right;\n",
       "    }\n",
       "</style>\n",
       "<table border=\"1\" class=\"dataframe\">\n",
       "  <thead>\n",
       "    <tr style=\"text-align: right;\">\n",
       "      <th></th>\n",
       "      <th>limit_balance</th>\n",
       "      <th>pay_0</th>\n",
       "      <th>pay_2</th>\n",
       "      <th>pay_3</th>\n",
       "      <th>pay_4</th>\n",
       "      <th>pay_5</th>\n",
       "      <th>pay_6</th>\n",
       "      <th>default_payment_next_month</th>\n",
       "    </tr>\n",
       "  </thead>\n",
       "  <tbody>\n",
       "    <tr>\n",
       "      <th>0</th>\n",
       "      <td>130000.0</td>\n",
       "      <td>0.0</td>\n",
       "      <td>0.0</td>\n",
       "      <td>0.0</td>\n",
       "      <td>0.0</td>\n",
       "      <td>0</td>\n",
       "      <td>0</td>\n",
       "      <td>0</td>\n",
       "    </tr>\n",
       "    <tr>\n",
       "      <th>1</th>\n",
       "      <td>230000.0</td>\n",
       "      <td>0.0</td>\n",
       "      <td>0.0</td>\n",
       "      <td>0.0</td>\n",
       "      <td>0.0</td>\n",
       "      <td>0</td>\n",
       "      <td>0</td>\n",
       "      <td>1</td>\n",
       "    </tr>\n",
       "    <tr>\n",
       "      <th>2</th>\n",
       "      <td>200000.0</td>\n",
       "      <td>0.0</td>\n",
       "      <td>0.0</td>\n",
       "      <td>0.0</td>\n",
       "      <td>0.0</td>\n",
       "      <td>0</td>\n",
       "      <td>0</td>\n",
       "      <td>0</td>\n",
       "    </tr>\n",
       "    <tr>\n",
       "      <th>3</th>\n",
       "      <td>500000.0</td>\n",
       "      <td>0.0</td>\n",
       "      <td>0.0</td>\n",
       "      <td>0.0</td>\n",
       "      <td>0.0</td>\n",
       "      <td>0</td>\n",
       "      <td>0</td>\n",
       "      <td>0</td>\n",
       "    </tr>\n",
       "    <tr>\n",
       "      <th>4</th>\n",
       "      <td>230000.0</td>\n",
       "      <td>0.0</td>\n",
       "      <td>0.0</td>\n",
       "      <td>0.0</td>\n",
       "      <td>0.0</td>\n",
       "      <td>0</td>\n",
       "      <td>0</td>\n",
       "      <td>0</td>\n",
       "    </tr>\n",
       "    <tr>\n",
       "      <th>...</th>\n",
       "      <td>...</td>\n",
       "      <td>...</td>\n",
       "      <td>...</td>\n",
       "      <td>...</td>\n",
       "      <td>...</td>\n",
       "      <td>...</td>\n",
       "      <td>...</td>\n",
       "      <td>...</td>\n",
       "    </tr>\n",
       "    <tr>\n",
       "      <th>2960</th>\n",
       "      <td>30000.0</td>\n",
       "      <td>-1.0</td>\n",
       "      <td>-1.0</td>\n",
       "      <td>2.0</td>\n",
       "      <td>-1.0</td>\n",
       "      <td>-1</td>\n",
       "      <td>-2</td>\n",
       "      <td>1</td>\n",
       "    </tr>\n",
       "    <tr>\n",
       "      <th>2961</th>\n",
       "      <td>20000.0</td>\n",
       "      <td>-1.0</td>\n",
       "      <td>-1.0</td>\n",
       "      <td>-1.0</td>\n",
       "      <td>-1.0</td>\n",
       "      <td>-1</td>\n",
       "      <td>-2</td>\n",
       "      <td>0</td>\n",
       "    </tr>\n",
       "    <tr>\n",
       "      <th>2962</th>\n",
       "      <td>280000.0</td>\n",
       "      <td>-1.0</td>\n",
       "      <td>-1.0</td>\n",
       "      <td>-1.0</td>\n",
       "      <td>-1.0</td>\n",
       "      <td>-2</td>\n",
       "      <td>-2</td>\n",
       "      <td>0</td>\n",
       "    </tr>\n",
       "    <tr>\n",
       "      <th>2963</th>\n",
       "      <td>360000.0</td>\n",
       "      <td>-1.0</td>\n",
       "      <td>-1.0</td>\n",
       "      <td>-1.0</td>\n",
       "      <td>-1.0</td>\n",
       "      <td>-2</td>\n",
       "      <td>-2</td>\n",
       "      <td>0</td>\n",
       "    </tr>\n",
       "    <tr>\n",
       "      <th>2964</th>\n",
       "      <td>100000.0</td>\n",
       "      <td>-1.0</td>\n",
       "      <td>-1.0</td>\n",
       "      <td>-1.0</td>\n",
       "      <td>-1.0</td>\n",
       "      <td>-2</td>\n",
       "      <td>-2</td>\n",
       "      <td>0</td>\n",
       "    </tr>\n",
       "  </tbody>\n",
       "</table>\n",
       "<p>2964 rows × 8 columns</p>\n",
       "</div>"
      ],
      "text/plain": [
       "      limit_balance  pay_0  pay_2  pay_3  pay_4  pay_5  pay_6  \\\n",
       "0          130000.0    0.0    0.0    0.0    0.0      0      0   \n",
       "1          230000.0    0.0    0.0    0.0    0.0      0      0   \n",
       "2          200000.0    0.0    0.0    0.0    0.0      0      0   \n",
       "3          500000.0    0.0    0.0    0.0    0.0      0      0   \n",
       "4          230000.0    0.0    0.0    0.0    0.0      0      0   \n",
       "...             ...    ...    ...    ...    ...    ...    ...   \n",
       "2960        30000.0   -1.0   -1.0    2.0   -1.0     -1     -2   \n",
       "2961        20000.0   -1.0   -1.0   -1.0   -1.0     -1     -2   \n",
       "2962       280000.0   -1.0   -1.0   -1.0   -1.0     -2     -2   \n",
       "2963       360000.0   -1.0   -1.0   -1.0   -1.0     -2     -2   \n",
       "2964       100000.0   -1.0   -1.0   -1.0   -1.0     -2     -2   \n",
       "\n",
       "      default_payment_next_month  \n",
       "0                              0  \n",
       "1                              1  \n",
       "2                              0  \n",
       "3                              0  \n",
       "4                              0  \n",
       "...                          ...  \n",
       "2960                           1  \n",
       "2961                           0  \n",
       "2962                           0  \n",
       "2963                           0  \n",
       "2964                           0  \n",
       "\n",
       "[2964 rows x 8 columns]"
      ]
     },
     "execution_count": 643,
     "metadata": {},
     "output_type": "execute_result"
    }
   ],
   "source": [
    "# mendrop kolum-kolum tak terpakai\n",
    "\n",
    "df2 = df.drop(['sex', 'education_level', 'marital_status', 'age', 'bill_amt_1',\n",
    "       'bill_amt_2', 'bill_amt_3', 'bill_amt_4', 'bill_amt_5', 'bill_amt_6',\n",
    "       'pay_amt_1', 'pay_amt_2', 'pay_amt_3', 'pay_amt_4', 'pay_amt_5',\n",
    "       'pay_amt_6'], axis=1)\n",
    "\n",
    "df2"
   ]
  },
  {
   "cell_type": "code",
   "execution_count": 644,
   "metadata": {},
   "outputs": [
    {
     "data": {
      "text/plain": [
       "Index(['limit_balance', 'pay_0', 'pay_2', 'pay_3', 'pay_4', 'pay_5', 'pay_6',\n",
       "       'default_payment_next_month'],\n",
       "      dtype='object')"
      ]
     },
     "execution_count": 644,
     "metadata": {},
     "output_type": "execute_result"
    }
   ],
   "source": [
    "df2.columns"
   ]
  },
  {
   "attachments": {},
   "cell_type": "markdown",
   "metadata": {},
   "source": [
    "Selanjutnya dilihat kembali korelasi variabel-variabel yang ada terhadap target, kali ini dengan heatmap."
   ]
  },
  {
   "cell_type": "code",
   "execution_count": 645,
   "metadata": {},
   "outputs": [],
   "source": [
    "other_col = ['limit_balance', 'pay_0', 'pay_2', 'pay_3', 'pay_4', 'pay_5', 'pay_6']"
   ]
  },
  {
   "cell_type": "code",
   "execution_count": 646,
   "metadata": {},
   "outputs": [
    {
     "name": "stdout",
     "output_type": "stream",
     "text": [
      "interval columns not set, guessing: ['limit_balance', 'pay_0', 'pay_2', 'pay_3', 'pay_4', 'pay_5', 'pay_6', 'default_payment_next_month']\n"
     ]
    }
   ],
   "source": [
    "phik_overview = df2[other_col+['default_payment_next_month']].phik_matrix()"
   ]
  },
  {
   "cell_type": "code",
   "execution_count": 647,
   "metadata": {},
   "outputs": [
    {
     "data": {
      "image/png": "[encoded data removed]",
      "text/plain": [
       "<Figure size 1000x500 with 2 Axes>"
      ]
     },
     "metadata": {},
     "output_type": "display_data"
    }
   ],
   "source": [
    "plot_correlation_matrix(phik_overview.values, \n",
    "                        x_labels=phik_overview.columns, \n",
    "                        y_labels=phik_overview.index, \n",
    "                        vmin=0, vmax=1, color_map=\"Greens\", \n",
    "                        title=r\"correlation $\\phi_K$ other columns\", \n",
    "                        fontsize_factor=1, \n",
    "                        figsize=(10,5))\n",
    "plt.show()"
   ]
  },
  {
   "attachments": {},
   "cell_type": "markdown",
   "metadata": {},
   "source": [
    "Selanjutnya dilihat distribusi data pada variabel-variabel yang ada."
   ]
  },
  {
   "cell_type": "code",
   "execution_count": 648,
   "metadata": {},
   "outputs": [
    {
     "data": {
      "image/png": "[encoded data removed]",
      "text/plain": [
       "<Figure size 2000x2000 with 8 Axes>"
      ]
     },
     "metadata": {},
     "output_type": "display_data"
    }
   ],
   "source": [
    "# memvisualisasikan masing-masing kolum dengan plot, histplot pada numerical dan countplot pada categorical\n",
    "\n",
    "fig, ax = plt.subplots(nrows=4, ncols=2, figsize=[20,20])\n",
    "\n",
    "a = sns.histplot(df2['limit_balance'], bins=20, kde=True, ax=ax[0,0])\n",
    "a.set_title('Limit-Balance Histogram')\n",
    "\n",
    "b = sns.countplot(data=df2, x='pay_0', ax=ax[0,1])\n",
    "b.set_title('Pay-0 Countplot')\n",
    "\n",
    "c = sns.countplot(data=df2, x='pay_2', ax=ax[1,0])\n",
    "c.set_title('Pay-2 Countplot')\n",
    "\n",
    "d = sns.countplot(data=df2, x='pay_3', ax=ax[1,1])\n",
    "d.set_title('Pay-3 Countplot')\n",
    "\n",
    "e = sns.countplot(data=df2, x='pay_4', ax=ax[2,0])\n",
    "e.set_title('Pay-4 Countplot')\n",
    "\n",
    "f = sns.countplot(data=df2, x='pay_5', ax=ax[2,1])\n",
    "f.set_title('Pay-5 Countplot')\n",
    "\n",
    "g = sns.countplot(data=df2, x='pay_6', ax=ax[3,0])\n",
    "g.set_title('Pay-6 Countplot')\n",
    "\n",
    "h = sns.countplot(data=df2, x='default_payment_next_month', ax=ax[3,1])\n",
    "h.set_title('Default-Payment-Next-Month Countplot')\n",
    "\n",
    "plt.show()"
   ]
  },
  {
   "attachments": {},
   "cell_type": "markdown",
   "metadata": {},
   "source": [
    "Selanjutnya dilakukan pengecekan terhadap multicollinearity dan cardinality pada data."
   ]
  },
  {
   "cell_type": "code",
   "execution_count": 649,
   "metadata": {},
   "outputs": [],
   "source": [
    "# mengecek multicollinearity dengan VIF\n",
    "\n",
    "def calc_vif(x):\n",
    "\n",
    "    vif = pd.DataFrame()\n",
    "    vif[\"variables\"] = x.columns\n",
    "    vif[\"VIF\"] = [variance_inflation_factor(x.values, i) for i in range(x.shape[1])]\n",
    "\n",
    "    return(vif)"
   ]
  },
  {
   "cell_type": "code",
   "execution_count": 650,
   "metadata": {},
   "outputs": [
    {
     "data": {
      "text/html": [
       "<div>\n",
       "<style scoped>\n",
       "    .dataframe tbody tr th:only-of-type {\n",
       "        vertical-align: middle;\n",
       "    }\n",
       "\n",
       "    .dataframe tbody tr th {\n",
       "        vertical-align: top;\n",
       "    }\n",
       "\n",
       "    .dataframe thead th {\n",
       "        text-align: right;\n",
       "    }\n",
       "</style>\n",
       "<table border=\"1\" class=\"dataframe\">\n",
       "  <thead>\n",
       "    <tr style=\"text-align: right;\">\n",
       "      <th></th>\n",
       "      <th>variables</th>\n",
       "      <th>VIF</th>\n",
       "    </tr>\n",
       "  </thead>\n",
       "  <tbody>\n",
       "    <tr>\n",
       "      <th>0</th>\n",
       "      <td>pay_0</td>\n",
       "      <td>1.850244</td>\n",
       "    </tr>\n",
       "    <tr>\n",
       "      <th>1</th>\n",
       "      <td>pay_2</td>\n",
       "      <td>3.131830</td>\n",
       "    </tr>\n",
       "    <tr>\n",
       "      <th>2</th>\n",
       "      <td>pay_3</td>\n",
       "      <td>3.401713</td>\n",
       "    </tr>\n",
       "    <tr>\n",
       "      <th>3</th>\n",
       "      <td>pay_4</td>\n",
       "      <td>4.080875</td>\n",
       "    </tr>\n",
       "    <tr>\n",
       "      <th>4</th>\n",
       "      <td>pay_5</td>\n",
       "      <td>4.811418</td>\n",
       "    </tr>\n",
       "    <tr>\n",
       "      <th>5</th>\n",
       "      <td>pay_6</td>\n",
       "      <td>3.210091</td>\n",
       "    </tr>\n",
       "    <tr>\n",
       "      <th>6</th>\n",
       "      <td>limit_balance</td>\n",
       "      <td>1.123239</td>\n",
       "    </tr>\n",
       "  </tbody>\n",
       "</table>\n",
       "</div>"
      ],
      "text/plain": [
       "       variables       VIF\n",
       "0          pay_0  1.850244\n",
       "1          pay_2  3.131830\n",
       "2          pay_3  3.401713\n",
       "3          pay_4  4.080875\n",
       "4          pay_5  4.811418\n",
       "5          pay_6  3.210091\n",
       "6  limit_balance  1.123239"
      ]
     },
     "execution_count": 650,
     "metadata": {},
     "output_type": "execute_result"
    }
   ],
   "source": [
    "calc_vif(df2[['pay_0', 'pay_2', 'pay_3', 'pay_4', 'pay_5', 'pay_6', 'limit_balance']])"
   ]
  },
  {
   "attachments": {},
   "cell_type": "markdown",
   "metadata": {},
   "source": [
    "Berdasarkan hasil tersebut, pada variabel yang ada sudah tidak terdapat multicollinearity."
   ]
  },
  {
   "cell_type": "code",
   "execution_count": 651,
   "metadata": {},
   "outputs": [
    {
     "data": {
      "text/plain": [
       "limit_balance                 59\n",
       "pay_0                         11\n",
       "pay_2                         10\n",
       "pay_3                          9\n",
       "pay_4                         10\n",
       "pay_5                          9\n",
       "pay_6                          8\n",
       "default_payment_next_month     2\n",
       "dtype: int64"
      ]
     },
     "execution_count": 651,
     "metadata": {},
     "output_type": "execute_result"
    }
   ],
   "source": [
    "df2.nunique()"
   ]
  },
  {
   "attachments": {},
   "cell_type": "markdown",
   "metadata": {},
   "source": [
    "Pada kolum pay_0, 2, dan 4 terdapat cardinality. Namun karena dari kolum pay 0 sampai pay 6 memiliki kemiripan dalam penjelasan data, peneliti memutuskan untuk melakukan grouping pada kolum-kolum tersebut. \n",
    "\n",
    "Berdasarkan penjelasan di BigQuery mengenai data, khususnya pada kolum pay 0 sampai pay 6, value 1 sampai 8 menjelaskan keterlambatan dalam bentuk jumlah bulan terlambat. Namun pada -2, -1, dan 0 tidak dijelaskan secara spesifik melainkan pembayaran sudah terpenuhi. Maka peneliti memutuskan untuk meng-group value -2, -1, dan 0 menjadi sebuah value yang sama yaitu 0."
   ]
  },
  {
   "cell_type": "code",
   "execution_count": 652,
   "metadata": {},
   "outputs": [
    {
     "data": {
      "text/plain": [
       "Index(['limit_balance', 'pay_0', 'pay_2', 'pay_3', 'pay_4', 'pay_5', 'pay_6',\n",
       "       'default_payment_next_month'],\n",
       "      dtype='object')"
      ]
     },
     "execution_count": 652,
     "metadata": {},
     "output_type": "execute_result"
    }
   ],
   "source": [
    "df2.columns"
   ]
  },
  {
   "cell_type": "code",
   "execution_count": 653,
   "metadata": {},
   "outputs": [],
   "source": [
    "# me-replace value -2 dan -1 pada column pay menjadi 0\n",
    "df2[['pay_0', 'pay_2', 'pay_3', 'pay_4', 'pay_5', 'pay_6']] = df2[['pay_0', 'pay_2', 'pay_3', 'pay_4', 'pay_5', 'pay_6']].replace(to_replace=[-2,-1], value=0)"
   ]
  },
  {
   "cell_type": "code",
   "execution_count": 654,
   "metadata": {},
   "outputs": [
    {
     "name": "stdout",
     "output_type": "stream",
     "text": [
      "pay_0 [0. 2. 3. 4. 5. 6. 7. 8. 1.]\n",
      "pay_2 [0. 2. 3. 4. 5. 6. 7. 1.]\n",
      "pay_3 [0. 2. 3. 4. 6. 7. 5.]\n",
      "pay_4 [0. 2. 3. 5. 4. 6. 7. 8.]\n",
      "pay_5 [0 2 3 4 5 6 7]\n",
      "pay_6 [0 2 3 6 7 4]\n"
     ]
    }
   ],
   "source": [
    "for i in df2[['pay_0', 'pay_2', 'pay_3', 'pay_4', 'pay_5', 'pay_6']]:\n",
    "    print(i,df2[i].unique())"
   ]
  },
  {
   "attachments": {},
   "cell_type": "markdown",
   "metadata": {},
   "source": [
    "# Data Preprocessing"
   ]
  },
  {
   "attachments": {},
   "cell_type": "markdown",
   "metadata": {},
   "source": [
    "Berikutnya dilakukan preprocessing terhadap data untuk memudahkan model machine learning dalam belajar nantinya. Disini akan dilakukan pemisahan fitur dan target, scaling dan encoding jika diperlukan, serta handling terhadap outlier."
   ]
  },
  {
   "cell_type": "code",
   "execution_count": 655,
   "metadata": {},
   "outputs": [],
   "source": [
    "feature = ['limit_balance', 'pay_0', 'pay_2', 'pay_3', 'pay_4', 'pay_5', 'pay_6']\n",
    "target = ['default_payment_next_month']"
   ]
  },
  {
   "cell_type": "code",
   "execution_count": 656,
   "metadata": {},
   "outputs": [
    {
     "name": "stdout",
     "output_type": "stream",
     "text": [
      "Train Size :  (2371, 8)\n",
      "Test Size  :  (593, 8)\n"
     ]
    }
   ],
   "source": [
    "# split data terhadap data train dan data test, tidak langsung di split ke X dan y karena peneliti akan menghandle outlier terlebih dulu\n",
    "\n",
    "data_train, data_test = train_test_split(df2, test_size=0.2, random_state=14, stratify=df.default_payment_next_month)\n",
    "\n",
    "print('Train Size : ', data_train.shape)\n",
    "print('Test Size  : ', data_test.shape)"
   ]
  },
  {
   "attachments": {},
   "cell_type": "markdown",
   "metadata": {},
   "source": [
    "Pengecekan outlier pada kolum limit_balance, karena hanya kolum tersebut yang berbentuk numerical."
   ]
  },
  {
   "cell_type": "code",
   "execution_count": 657,
   "metadata": {},
   "outputs": [
    {
     "name": "stdout",
     "output_type": "stream",
     "text": [
      "Skewness value:  1.0000446026718248\n"
     ]
    },
    {
     "data": {
      "text/plain": [
       "<AxesSubplot:>"
      ]
     },
     "execution_count": 657,
     "metadata": {},
     "output_type": "execute_result"
    },
    {
     "data": {
      "image/png": "[encoded data removed]",
      "text/plain": [
       "<Figure size 1000x500 with 2 Axes>"
      ]
     },
     "metadata": {},
     "output_type": "display_data"
    }
   ],
   "source": [
    "# pengecekan skewness dan outlier\n",
    "\n",
    "print('Skewness value: ', data_train['limit_balance'].skew())\n",
    "fig, axes = plt.subplots(ncols=2, figsize=(10,5))\n",
    "fig.suptitle('Feature Distribution', fontsize=12)\n",
    "sns.histplot(data=data_train['limit_balance'], ax=axes[0])\n",
    "sns.boxplot(data=data_train['limit_balance'], ax=axes[1])"
   ]
  },
  {
   "cell_type": "code",
   "execution_count": 658,
   "metadata": {},
   "outputs": [
    {
     "name": "stdout",
     "output_type": "stream",
     "text": [
      "count of outlier:  10\n",
      "percentage of outlier:  0.42176296921130324 %\n"
     ]
    }
   ],
   "source": [
    "# mendefine IQR untuk melihat tingkat outlier\n",
    "\n",
    "Q1 = np.quantile(data_train['limit_balance'], 0.25)\n",
    "Q3 = np.quantile(data_train['limit_balance'], 0.75)\n",
    "IQR =  Q3 - Q1\n",
    "upper_boundary = Q3 + 1.5 * IQR\n",
    "lower_boundary = Q1 - 1.5 * IQR\n",
    "\n",
    "outlier = data_train[(data_train['limit_balance'] > upper_boundary) | (data_train['limit_balance'] < lower_boundary)]\n",
    "print('count of outlier: ', outlier.shape[0])\n",
    "print('percentage of outlier: ', outlier.shape[0]/data_train.shape[0] * 100, '%')"
   ]
  },
  {
   "cell_type": "code",
   "execution_count": 659,
   "metadata": {},
   "outputs": [
    {
     "data": {
      "text/plain": [
       "(2361, 8)"
      ]
     },
     "execution_count": 659,
     "metadata": {},
     "output_type": "execute_result"
    }
   ],
   "source": [
    "# pembuangan outlier\n",
    "\n",
    "data_train_cleaned = data_train[(data_train['limit_balance'] <= upper_boundary) & (data_train['limit_balance'] >= lower_boundary)]\n",
    "data_train_cleaned.shape"
   ]
  },
  {
   "cell_type": "code",
   "execution_count": 660,
   "metadata": {},
   "outputs": [
    {
     "name": "stdout",
     "output_type": "stream",
     "text": [
      "count of outlier:  0\n",
      "percentage of outlier:  0.0 %\n"
     ]
    }
   ],
   "source": [
    "# pengecekan kembali pada outlier\n",
    "\n",
    "outlier_cleaned = data_train_cleaned[(data_train_cleaned['limit_balance'] > upper_boundary) | (data_train_cleaned['limit_balance'] < lower_boundary)]\n",
    "print('count of outlier: ', outlier_cleaned.shape[0])\n",
    "print('percentage of outlier: ', outlier_cleaned.shape[0]/data_train_cleaned.shape[0] * 100, '%')"
   ]
  },
  {
   "attachments": {},
   "cell_type": "markdown",
   "metadata": {},
   "source": [
    "Setelah dilakukan handling pada outlier, target dan fitur dipisah kedalam X dan y"
   ]
  },
  {
   "cell_type": "code",
   "execution_count": 661,
   "metadata": {},
   "outputs": [],
   "source": [
    "X_train = data_train.drop('default_payment_next_month', axis=1)\n",
    "y_train = data_train['default_payment_next_month']"
   ]
  },
  {
   "cell_type": "code",
   "execution_count": 662,
   "metadata": {},
   "outputs": [
    {
     "data": {
      "text/html": [
       "<div>\n",
       "<style scoped>\n",
       "    .dataframe tbody tr th:only-of-type {\n",
       "        vertical-align: middle;\n",
       "    }\n",
       "\n",
       "    .dataframe tbody tr th {\n",
       "        vertical-align: top;\n",
       "    }\n",
       "\n",
       "    .dataframe thead th {\n",
       "        text-align: right;\n",
       "    }\n",
       "</style>\n",
       "<table border=\"1\" class=\"dataframe\">\n",
       "  <thead>\n",
       "    <tr style=\"text-align: right;\">\n",
       "      <th></th>\n",
       "      <th>limit_balance</th>\n",
       "      <th>pay_0</th>\n",
       "      <th>pay_2</th>\n",
       "      <th>pay_3</th>\n",
       "      <th>pay_4</th>\n",
       "      <th>pay_5</th>\n",
       "      <th>pay_6</th>\n",
       "    </tr>\n",
       "  </thead>\n",
       "  <tbody>\n",
       "    <tr>\n",
       "      <th>1094</th>\n",
       "      <td>80000.0</td>\n",
       "      <td>0.0</td>\n",
       "      <td>0.0</td>\n",
       "      <td>0.0</td>\n",
       "      <td>2.0</td>\n",
       "      <td>0</td>\n",
       "      <td>0</td>\n",
       "    </tr>\n",
       "    <tr>\n",
       "      <th>2936</th>\n",
       "      <td>200000.0</td>\n",
       "      <td>0.0</td>\n",
       "      <td>0.0</td>\n",
       "      <td>0.0</td>\n",
       "      <td>0.0</td>\n",
       "      <td>0</td>\n",
       "      <td>0</td>\n",
       "    </tr>\n",
       "    <tr>\n",
       "      <th>574</th>\n",
       "      <td>230000.0</td>\n",
       "      <td>0.0</td>\n",
       "      <td>0.0</td>\n",
       "      <td>0.0</td>\n",
       "      <td>0.0</td>\n",
       "      <td>0</td>\n",
       "      <td>0</td>\n",
       "    </tr>\n",
       "    <tr>\n",
       "      <th>1736</th>\n",
       "      <td>100000.0</td>\n",
       "      <td>2.0</td>\n",
       "      <td>3.0</td>\n",
       "      <td>3.0</td>\n",
       "      <td>2.0</td>\n",
       "      <td>2</td>\n",
       "      <td>3</td>\n",
       "    </tr>\n",
       "    <tr>\n",
       "      <th>1003</th>\n",
       "      <td>240000.0</td>\n",
       "      <td>0.0</td>\n",
       "      <td>0.0</td>\n",
       "      <td>0.0</td>\n",
       "      <td>0.0</td>\n",
       "      <td>0</td>\n",
       "      <td>0</td>\n",
       "    </tr>\n",
       "  </tbody>\n",
       "</table>\n",
       "</div>"
      ],
      "text/plain": [
       "      limit_balance  pay_0  pay_2  pay_3  pay_4  pay_5  pay_6\n",
       "1094        80000.0    0.0    0.0    0.0    2.0      0      0\n",
       "2936       200000.0    0.0    0.0    0.0    0.0      0      0\n",
       "574        230000.0    0.0    0.0    0.0    0.0      0      0\n",
       "1736       100000.0    2.0    3.0    3.0    2.0      2      3\n",
       "1003       240000.0    0.0    0.0    0.0    0.0      0      0"
      ]
     },
     "execution_count": 662,
     "metadata": {},
     "output_type": "execute_result"
    }
   ],
   "source": [
    "X_train.head()"
   ]
  },
  {
   "cell_type": "code",
   "execution_count": 663,
   "metadata": {},
   "outputs": [
    {
     "data": {
      "text/plain": [
       "1094    0\n",
       "2936    0\n",
       "574     0\n",
       "1736    1\n",
       "1003    0\n",
       "Name: default_payment_next_month, dtype: int64"
      ]
     },
     "execution_count": 663,
     "metadata": {},
     "output_type": "execute_result"
    }
   ],
   "source": [
    "y_train.head()"
   ]
  },
  {
   "cell_type": "code",
   "execution_count": 664,
   "metadata": {},
   "outputs": [],
   "source": [
    "X_test = data_test.drop('default_payment_next_month', axis=1)\n",
    "y_test = data_test['default_payment_next_month']"
   ]
  },
  {
   "cell_type": "code",
   "execution_count": 665,
   "metadata": {},
   "outputs": [
    {
     "data": {
      "text/plain": [
       "Index(['limit_balance', 'pay_0', 'pay_2', 'pay_3', 'pay_4', 'pay_5', 'pay_6'], dtype='object')"
      ]
     },
     "execution_count": 665,
     "metadata": {},
     "output_type": "execute_result"
    }
   ],
   "source": [
    "X_train.columns"
   ]
  },
  {
   "attachments": {},
   "cell_type": "markdown",
   "metadata": {},
   "source": [
    "Berikutnya untuk melakukan scaling/encoding maka kolum numerical dan categorical dipisah terlebih dahulu."
   ]
  },
  {
   "cell_type": "code",
   "execution_count": 666,
   "metadata": {},
   "outputs": [
    {
     "name": "stdout",
     "output_type": "stream",
     "text": [
      "Numerical Columns :  ['limit_balance']\n",
      "Categorical Columns :  ['pay_0', 'pay_2', 'pay_3', 'pay_4', 'pay_5', 'pay_6']\n"
     ]
    }
   ],
   "source": [
    "num_col = ['limit_balance']\n",
    "cat_col = ['pay_0', 'pay_2', 'pay_3', 'pay_4', 'pay_5', 'pay_6']\n",
    "\n",
    "print('Numerical Columns : ', num_col)\n",
    "print('Categorical Columns : ', cat_col)"
   ]
  },
  {
   "cell_type": "code",
   "execution_count": 667,
   "metadata": {},
   "outputs": [],
   "source": [
    "X_train_num = X_train[num_col]\n",
    "X_train_cat = X_train[cat_col]\n",
    "\n",
    "X_test_num = X_test[num_col]\n",
    "X_test_cat = X_test[cat_col]"
   ]
  },
  {
   "cell_type": "code",
   "execution_count": 668,
   "metadata": {},
   "outputs": [
    {
     "data": {
      "text/plain": [
       "array([[0.08860759],\n",
       "       [0.24050633],\n",
       "       [0.27848101],\n",
       "       ...,\n",
       "       [0.55696203],\n",
       "       [0.12658228],\n",
       "       [0.21518987]])"
      ]
     },
     "execution_count": 668,
     "metadata": {},
     "output_type": "execute_result"
    }
   ],
   "source": [
    "# scaling pada kolum numerical menggunakan MinMax\n",
    "\n",
    "scaler = MinMaxScaler()\n",
    "scaler.fit(X_train_num)\n",
    "\n",
    "X_train_num_scaled = scaler.transform(X_train_num)\n",
    "X_test_num_scaled = scaler.transform(X_test_num)\n",
    "\n",
    "X_train_num_scaled"
   ]
  },
  {
   "attachments": {},
   "cell_type": "markdown",
   "metadata": {},
   "source": [
    "Peneliti berpendapat, pada cat_col tidak perlu lagi di encode karena walaupun kolum merupakan kategorical, valuenya sudah numeric. \n",
    "\n",
    "Kemudian kolum numerical yang sudah di scaling dan kolum categorical digabungkan kembali. "
   ]
  },
  {
   "cell_type": "code",
   "execution_count": 669,
   "metadata": {},
   "outputs": [
    {
     "data": {
      "text/plain": [
       "array([[0.08860759, 0.        , 0.        , ..., 2.        , 0.        ,\n",
       "        0.        ],\n",
       "       [0.24050633, 0.        , 0.        , ..., 0.        , 0.        ,\n",
       "        0.        ],\n",
       "       [0.27848101, 0.        , 0.        , ..., 0.        , 0.        ,\n",
       "        0.        ],\n",
       "       ...,\n",
       "       [0.55696203, 0.        , 0.        , ..., 0.        , 0.        ,\n",
       "        0.        ],\n",
       "       [0.12658228, 1.        , 0.        , ..., 0.        , 0.        ,\n",
       "        0.        ],\n",
       "       [0.21518987, 2.        , 2.        , ..., 2.        , 2.        ,\n",
       "        2.        ]])"
      ]
     },
     "execution_count": 669,
     "metadata": {},
     "output_type": "execute_result"
    }
   ],
   "source": [
    "# menggabungkan kembali kolum dengan concatenate\n",
    "\n",
    "X_train_final = np.concatenate([X_train_num_scaled, X_train_cat], axis=1)\n",
    "X_test_final = np.concatenate([X_test_num_scaled, X_test_cat], axis=1)\n",
    "\n",
    "X_train_final"
   ]
  },
  {
   "attachments": {},
   "cell_type": "markdown",
   "metadata": {},
   "source": [
    "# Model Definition"
   ]
  },
  {
   "attachments": {},
   "cell_type": "markdown",
   "metadata": {},
   "source": [
    "Berikutnya, akan dilakukan percobaan terhadap model mana yang terbaik untuk digunakan dalam memprediksi data ini."
   ]
  },
  {
   "cell_type": "code",
   "execution_count": 670,
   "metadata": {},
   "outputs": [],
   "source": [
    "# define semua model di dalam sebuah list\n",
    "\n",
    "models = [LogisticRegression(), SVC(), DecisionTreeClassifier(), RandomForestClassifier(), KNeighborsClassifier(), GaussianNB(), AdaBoostClassifier()]"
   ]
  },
  {
   "attachments": {},
   "cell_type": "markdown",
   "metadata": {},
   "source": [
    "Peneliti menggunakan recall sebagai scoring karena berdasarkan data, penting untuk memfokuskan model pada recall terhadap True Negatif. "
   ]
  },
  {
   "cell_type": "code",
   "execution_count": 671,
   "metadata": {},
   "outputs": [
    {
     "name": "stdout",
     "output_type": "stream",
     "text": [
      "\n",
      "Model LogisticRegression()\n",
      "Recall Score - All - Cross Validation  :  [0.36470588 0.32544379 0.36094675]\n",
      "Recall Score - Mean - Cross Validation :  0.35036547163244\n",
      "Recall Score - Std - Cross Validation  :  0.017688990016498922\n",
      "Recall Score - Range of Test-Set       :  0.33267648161594104 - 0.3680544616489389\n",
      "\n",
      "Model SVC()\n",
      "Recall Score - All - Cross Validation  :  [0.39411765 0.40236686 0.44378698]\n",
      "Recall Score - Mean - Cross Validation :  0.4134238310708899\n",
      "Recall Score - Std - Cross Validation  :  0.021732511846262355\n",
      "Recall Score - Range of Test-Set       :  0.3916913192246276 - 0.4351563429171523\n",
      "\n",
      "Model DecisionTreeClassifier()\n",
      "Recall Score - All - Cross Validation  :  [0.35882353 0.35502959 0.34911243]\n",
      "Recall Score - Mean - Cross Validation :  0.354321847082028\n",
      "Recall Score - Std - Cross Validation  :  0.0039960023994438576\n",
      "Recall Score - Range of Test-Set       :  0.35032584468258415 - 0.3583178494814719\n",
      "\n",
      "Model RandomForestClassifier()\n",
      "Recall Score - All - Cross Validation  :  [0.33529412 0.38461538 0.39053254]\n",
      "Recall Score - Mean - Cross Validation :  0.37014734888038053\n",
      "Recall Score - Std - Cross Validation  :  0.02476306376398379\n",
      "Recall Score - Range of Test-Set       :  0.34538428511639674 - 0.39491041264436433\n",
      "\n",
      "Model KNeighborsClassifier()\n",
      "Recall Score - All - Cross Validation  :  [0.35294118 0.35502959 0.40236686]\n",
      "Recall Score - Mean - Cross Validation :  0.3701125420582434\n",
      "Recall Score - Std - Cross Validation  :  0.022823180055109502\n",
      "Recall Score - Range of Test-Set       :  0.3472893620031339 - 0.3929357221133529\n",
      "\n",
      "Model GaussianNB()\n",
      "Recall Score - All - Cross Validation  :  [0.38235294 0.50887574 0.44378698]\n",
      "Recall Score - Mean - Cross Validation :  0.4450052210233206\n",
      "Recall Score - Std - Cross Validation  :  0.051659898776255715\n",
      "Recall Score - Range of Test-Set       :  0.39334532224706487 - 0.4966651197995763\n",
      "\n",
      "Model AdaBoostClassifier()\n",
      "Recall Score - All - Cross Validation  :  [0.37058824 0.39053254 0.42011834]\n",
      "Recall Score - Mean - Cross Validation :  0.3937463742893607\n",
      "Recall Score - Std - Cross Validation  :  0.02034788153094169\n",
      "Recall Score - Range of Test-Set       :  0.373398492758419 - 0.4140942558203024\n",
      "\n",
      "Best Model : GaussianNB()\n",
      "Best Score : 0.4450052210233206\n"
     ]
    }
   ],
   "source": [
    "# menentukan best model dengan for loop\n",
    "\n",
    "best_model = []\n",
    "best_score = 0\n",
    "\n",
    "for i in models:\n",
    "    model = i\n",
    "    model_cv = cross_val_score(model, X_train_final, y_train, cv=StratifiedKFold(n_splits=3, random_state = 14, shuffle= True), scoring=\"recall\")\n",
    "    if model_cv.mean() > best_score:\n",
    "        best_model = i\n",
    "        best_score = model_cv.mean()\n",
    "\n",
    "    print(f'\\nModel {i}')\n",
    "    print('Recall Score - All - Cross Validation  : ', model_cv)\n",
    "    print('Recall Score - Mean - Cross Validation : ', model_cv.mean())\n",
    "    print('Recall Score - Std - Cross Validation  : ', model_cv.std())\n",
    "    print('Recall Score - Range of Test-Set       : ', (model_cv.mean()-model_cv.std()) , '-', (model_cv.mean()+model_cv.std()))\n",
    "\n",
    "print(f'\\nBest Model : {best_model}')\n",
    "print(f'Best Score : {best_score}')\n"
   ]
  },
  {
   "attachments": {},
   "cell_type": "markdown",
   "metadata": {},
   "source": [
    "Berdasarkan for loop diatas, ditemukan bahwa model dengan recall paling baik adalah Gaussian Naive Bayes. Untuk selanjutnya peneliti akan menggunakan GaussianNB untuk pembuatan model."
   ]
  },
  {
   "cell_type": "code",
   "execution_count": 672,
   "metadata": {},
   "outputs": [],
   "source": [
    "gaussian = GaussianNB()"
   ]
  },
  {
   "attachments": {},
   "cell_type": "markdown",
   "metadata": {},
   "source": [
    "# Model Training"
   ]
  },
  {
   "attachments": {},
   "cell_type": "markdown",
   "metadata": {},
   "source": [
    "Model di training dengan default parameter dan dengan parameter yang sudah di tuning menggunakan GridSearchCV"
   ]
  },
  {
   "attachments": {},
   "cell_type": "markdown",
   "metadata": {},
   "source": [
    "**Model dengan Parameter Default**"
   ]
  },
  {
   "cell_type": "code",
   "execution_count": 673,
   "metadata": {},
   "outputs": [
    {
     "data": {
      "text/plain": [
       "GaussianNB()"
      ]
     },
     "execution_count": 673,
     "metadata": {},
     "output_type": "execute_result"
    }
   ],
   "source": [
    "# fit model default\n",
    "\n",
    "gaussian.fit(X_train_final, y_train)"
   ]
  },
  {
   "cell_type": "code",
   "execution_count": 674,
   "metadata": {},
   "outputs": [],
   "source": [
    "# predict model default\n",
    "\n",
    "y_pred_train_gaussian = gaussian.predict(X_train_final)\n",
    "y_pred_test_gaussian = gaussian.predict(X_test_final)"
   ]
  },
  {
   "attachments": {},
   "cell_type": "markdown",
   "metadata": {},
   "source": [
    "**Model dengan Parameter yang sudah di Tuning**"
   ]
  },
  {
   "cell_type": "code",
   "execution_count": 675,
   "metadata": {},
   "outputs": [
    {
     "name": "stdout",
     "output_type": "stream",
     "text": [
      "Fitting 5 folds for each of 100 candidates, totalling 500 fits\n"
     ]
    },
    {
     "data": {
      "text/plain": [
       "{'var_smoothing': 1e-09}"
      ]
     },
     "execution_count": 675,
     "metadata": {},
     "output_type": "execute_result"
    }
   ],
   "source": [
    "# GridSearch hyper parameter GaussianNB untuk kemudian di fit dengan hasil hyper parameter dari search\n",
    "# Start dimulai dari bawah, Stop berarti berhenti dimana\n",
    "# Num adalah jumlah berapa kali pencarian\n",
    "# CV berarti pengulangan percobaan dengan beberapa jumlah data yang terpartisi\n",
    "\n",
    "param_grid = {'var_smoothing': np.logspace(start=-9, stop=0, num=100)}\n",
    "\n",
    "gaussian_grid = GridSearchCV(gaussian, param_grid, cv=5, verbose=1, scoring='recall')\n",
    "\n",
    "gaussian_grid.fit(X_train_final, y_train)\n",
    "\n",
    "gaussian_grid.best_params_"
   ]
  },
  {
   "cell_type": "code",
   "execution_count": 676,
   "metadata": {},
   "outputs": [],
   "source": [
    "# penggunaan best estimator\n",
    "\n",
    "gaussian_best = gaussian_grid.best_estimator_"
   ]
  },
  {
   "cell_type": "code",
   "execution_count": 677,
   "metadata": {},
   "outputs": [],
   "source": [
    "# predict model hasil tuning\n",
    "\n",
    "y_pred_train_gaussian_best = gaussian_best.predict(X_train_final)\n",
    "y_pred_test_gaussian_best = gaussian_best.predict(X_test_final)"
   ]
  },
  {
   "attachments": {},
   "cell_type": "markdown",
   "metadata": {},
   "source": [
    "# Model Evaluation"
   ]
  },
  {
   "attachments": {},
   "cell_type": "markdown",
   "metadata": {},
   "source": [
    "Berikutnya dilakukan evaluasi terhadap model. Namun berdasarkan GridSearch, hyper parameter terbaik yang ditemukan sama saja dengan default. Maka tidak terdapat perbedaan pada kedua model."
   ]
  },
  {
   "cell_type": "code",
   "execution_count": 678,
   "metadata": {},
   "outputs": [
    {
     "name": "stdout",
     "output_type": "stream",
     "text": [
      "              precision    recall  f1-score   support\n",
      "\n",
      "           0       0.86      0.91      0.88      1863\n",
      "           1       0.56      0.44      0.50       508\n",
      "\n",
      "    accuracy                           0.81      2371\n",
      "   macro avg       0.71      0.68      0.69      2371\n",
      "weighted avg       0.79      0.81      0.80      2371\n",
      "\n",
      "              precision    recall  f1-score   support\n",
      "\n",
      "           0       0.86      0.91      0.88      1863\n",
      "           1       0.56      0.44      0.50       508\n",
      "\n",
      "    accuracy                           0.81      2371\n",
      "   macro avg       0.71      0.68      0.69      2371\n",
      "weighted avg       0.79      0.81      0.80      2371\n",
      "\n"
     ]
    }
   ],
   "source": [
    "# classification report pada hasil train\n",
    "\n",
    "print(classification_report(y_train, y_pred_train_gaussian))\n",
    "print(classification_report(y_train, y_pred_train_gaussian_best))"
   ]
  },
  {
   "attachments": {},
   "cell_type": "markdown",
   "metadata": {},
   "source": [
    "Terlihat berdasarkan model yang telah dibuat, kemampuan recall pada class (1) tergolong rendah dengan skor 0.44. Berarti kemampuan model dalam memprediksi hasil cenderung menampilkan hasil yang berupa False Negatif."
   ]
  },
  {
   "cell_type": "code",
   "execution_count": 679,
   "metadata": {},
   "outputs": [
    {
     "name": "stdout",
     "output_type": "stream",
     "text": [
      "              precision    recall  f1-score   support\n",
      "\n",
      "           0       0.86      0.92      0.89       466\n",
      "           1       0.61      0.47      0.53       127\n",
      "\n",
      "    accuracy                           0.82       593\n",
      "   macro avg       0.74      0.69      0.71       593\n",
      "weighted avg       0.81      0.82      0.81       593\n",
      "\n",
      "              precision    recall  f1-score   support\n",
      "\n",
      "           0       0.86      0.92      0.89       466\n",
      "           1       0.61      0.47      0.53       127\n",
      "\n",
      "    accuracy                           0.82       593\n",
      "   macro avg       0.74      0.69      0.71       593\n",
      "weighted avg       0.81      0.82      0.81       593\n",
      "\n"
     ]
    }
   ],
   "source": [
    "# classification report pada hasil test\n",
    "\n",
    "print(classification_report(y_test, y_pred_test_gaussian))\n",
    "print(classification_report(y_test, y_pred_test_gaussian_best))"
   ]
  },
  {
   "attachments": {},
   "cell_type": "markdown",
   "metadata": {},
   "source": [
    "Pada hasil test juga ditemukan hasil yang sama. Walaupun terdapat sedikit peningkatan pada masing-masing skor. Tetap ditemukan bahwa model memiliki kemampuan yang cenderung rendah, khususnya dalam mempredik class (1). Dengan ini dapat disimpulkan Model mengalami underfit karena kemampuan model dalam memprediksi masih belum optimal, baik pada hasil train dan hasil test."
   ]
  },
  {
   "cell_type": "code",
   "execution_count": 680,
   "metadata": {},
   "outputs": [
    {
     "data": {
      "image/png": "[encoded data removed]",
      "text/plain": [
       "<Figure size 640x480 with 2 Axes>"
      ]
     },
     "metadata": {},
     "output_type": "display_data"
    },
    {
     "data": {
      "image/png": "[encoded data removed]",
      "text/plain": [
       "<Figure size 640x480 with 2 Axes>"
      ]
     },
     "metadata": {},
     "output_type": "display_data"
    }
   ],
   "source": [
    "# confusion matrix pada hasil train\n",
    "\n",
    "a = ConfusionMatrixDisplay.from_estimator(gaussian, X_train_final, y_train, cmap='Reds')\n",
    "a.ax_.set_title('GaussianNB Default Parameter, Train')\n",
    "\n",
    "b = ConfusionMatrixDisplay.from_estimator(gaussian_best, X_train_final, y_train, cmap='Reds')\n",
    "b.ax_.set_title('GaussianNB GridSearch Tuned, Train');"
   ]
  },
  {
   "cell_type": "code",
   "execution_count": 681,
   "metadata": {},
   "outputs": [
    {
     "data": {
      "image/png": "[encoded data removed]",
      "text/plain": [
       "<Figure size 640x480 with 2 Axes>"
      ]
     },
     "metadata": {},
     "output_type": "display_data"
    },
    {
     "data": {
      "image/png": "[encoded data removed]",
      "text/plain": [
       "<Figure size 640x480 with 2 Axes>"
      ]
     },
     "metadata": {},
     "output_type": "display_data"
    }
   ],
   "source": [
    "# confusion matrix pada hasil test\n",
    "\n",
    "c = ConfusionMatrixDisplay.from_estimator(gaussian, X_test_final, y_test, cmap='Reds')\n",
    "c.ax_.set_title('GaussianNB Default Parameter, Test')\n",
    "\n",
    "d = ConfusionMatrixDisplay.from_estimator(gaussian_best, X_test_final, y_test, cmap='Reds')\n",
    "d.ax_.set_title('GaussianNB GridSearch Tuned, Test');"
   ]
  },
  {
   "attachments": {},
   "cell_type": "markdown",
   "metadata": {},
   "source": [
    "Berdasarkan confusion matrix juga terlihat bahwa model kurang optimal dalam memprediksi class (1), baik pada train dan pada test model."
   ]
  },
  {
   "attachments": {},
   "cell_type": "markdown",
   "metadata": {},
   "source": [
    "# Model Inference"
   ]
  },
  {
   "attachments": {},
   "cell_type": "markdown",
   "metadata": {},
   "source": [
    "Model Inference dilakukan pada notebook terpisah. Selanjutnya dilakukan Model Saving agar model dapat digunakan diluar notebook ini."
   ]
  },
  {
   "attachments": {},
   "cell_type": "markdown",
   "metadata": {},
   "source": [
    "## Model Saving"
   ]
  },
  {
   "cell_type": "code",
   "execution_count": 682,
   "metadata": {},
   "outputs": [],
   "source": [
    "with open('minmax_scaler.pkl', 'wb') as file_1:\n",
    "  joblib.dump(scaler, file_1)\n",
    "  \n",
    "with open('gaussian.pkl', 'wb') as file_2:\n",
    "  joblib.dump(gaussian_best, file_2)\n",
    "  \n",
    "with open('num_col.pkl', 'wb') as file_3:\n",
    "  joblib.dump(num_col, file_3)\n",
    "  \n",
    "with open('cat_col.pkl', 'wb') as file_4:\n",
    "  joblib.dump(cat_col, file_4)"
   ]
  },
  {
   "attachments": {},
   "cell_type": "markdown",
   "metadata": {},
   "source": [
    "Cell-cell dibawah ini hanya digunakan untuk membantu peneliti mengerjakan inference notebook."
   ]
  },
  {
   "cell_type": "code",
   "execution_count": 683,
   "metadata": {},
   "outputs": [
    {
     "data": {
      "text/plain": [
       "Index(['limit_balance', 'pay_0', 'pay_2', 'pay_3', 'pay_4', 'pay_5', 'pay_6'], dtype='object')"
      ]
     },
     "execution_count": 683,
     "metadata": {},
     "output_type": "execute_result"
    }
   ],
   "source": [
    "X_train.columns"
   ]
  },
  {
   "cell_type": "code",
   "execution_count": 684,
   "metadata": {},
   "outputs": [
    {
     "data": {
      "text/plain": [
       "count      2371.000000\n",
       "mean     163087.304935\n",
       "std      125161.163494\n",
       "min       10000.000000\n",
       "25%       50000.000000\n",
       "50%      140000.000000\n",
       "75%      230000.000000\n",
       "max      800000.000000\n",
       "Name: limit_balance, dtype: float64"
      ]
     },
     "execution_count": 684,
     "metadata": {},
     "output_type": "execute_result"
    }
   ],
   "source": [
    "X_train['limit_balance'].describe()"
   ]
  },
  {
   "cell_type": "code",
   "execution_count": 685,
   "metadata": {},
   "outputs": [
    {
     "data": {
      "text/html": [
       "<div>\n",
       "<style scoped>\n",
       "    .dataframe tbody tr th:only-of-type {\n",
       "        vertical-align: middle;\n",
       "    }\n",
       "\n",
       "    .dataframe tbody tr th {\n",
       "        vertical-align: top;\n",
       "    }\n",
       "\n",
       "    .dataframe thead th {\n",
       "        text-align: right;\n",
       "    }\n",
       "</style>\n",
       "<table border=\"1\" class=\"dataframe\">\n",
       "  <thead>\n",
       "    <tr style=\"text-align: right;\">\n",
       "      <th></th>\n",
       "      <th>limit_balance</th>\n",
       "    </tr>\n",
       "  </thead>\n",
       "  <tbody>\n",
       "    <tr>\n",
       "      <th>count</th>\n",
       "      <td>2371.000000</td>\n",
       "    </tr>\n",
       "    <tr>\n",
       "      <th>mean</th>\n",
       "      <td>163087.304935</td>\n",
       "    </tr>\n",
       "    <tr>\n",
       "      <th>std</th>\n",
       "      <td>125161.163494</td>\n",
       "    </tr>\n",
       "    <tr>\n",
       "      <th>min</th>\n",
       "      <td>10000.000000</td>\n",
       "    </tr>\n",
       "    <tr>\n",
       "      <th>25%</th>\n",
       "      <td>50000.000000</td>\n",
       "    </tr>\n",
       "    <tr>\n",
       "      <th>50%</th>\n",
       "      <td>140000.000000</td>\n",
       "    </tr>\n",
       "    <tr>\n",
       "      <th>75%</th>\n",
       "      <td>230000.000000</td>\n",
       "    </tr>\n",
       "    <tr>\n",
       "      <th>max</th>\n",
       "      <td>800000.000000</td>\n",
       "    </tr>\n",
       "  </tbody>\n",
       "</table>\n",
       "</div>"
      ],
      "text/plain": [
       "       limit_balance\n",
       "count    2371.000000\n",
       "mean   163087.304935\n",
       "std    125161.163494\n",
       "min     10000.000000\n",
       "25%     50000.000000\n",
       "50%    140000.000000\n",
       "75%    230000.000000\n",
       "max    800000.000000"
      ]
     },
     "execution_count": 685,
     "metadata": {},
     "output_type": "execute_result"
    }
   ],
   "source": [
    "X_train_num.describe()"
   ]
  },
  {
   "cell_type": "code",
   "execution_count": 686,
   "metadata": {},
   "outputs": [
    {
     "data": {
      "text/html": [
       "<div>\n",
       "<style scoped>\n",
       "    .dataframe tbody tr th:only-of-type {\n",
       "        vertical-align: middle;\n",
       "    }\n",
       "\n",
       "    .dataframe tbody tr th {\n",
       "        vertical-align: top;\n",
       "    }\n",
       "\n",
       "    .dataframe thead th {\n",
       "        text-align: right;\n",
       "    }\n",
       "</style>\n",
       "<table border=\"1\" class=\"dataframe\">\n",
       "  <thead>\n",
       "    <tr style=\"text-align: right;\">\n",
       "      <th></th>\n",
       "      <th>pay_0</th>\n",
       "      <th>pay_2</th>\n",
       "      <th>pay_3</th>\n",
       "      <th>pay_4</th>\n",
       "      <th>pay_5</th>\n",
       "      <th>pay_6</th>\n",
       "    </tr>\n",
       "  </thead>\n",
       "  <tbody>\n",
       "    <tr>\n",
       "      <th>1094</th>\n",
       "      <td>0.0</td>\n",
       "      <td>0.0</td>\n",
       "      <td>0.0</td>\n",
       "      <td>2.0</td>\n",
       "      <td>0</td>\n",
       "      <td>0</td>\n",
       "    </tr>\n",
       "    <tr>\n",
       "      <th>2936</th>\n",
       "      <td>0.0</td>\n",
       "      <td>0.0</td>\n",
       "      <td>0.0</td>\n",
       "      <td>0.0</td>\n",
       "      <td>0</td>\n",
       "      <td>0</td>\n",
       "    </tr>\n",
       "    <tr>\n",
       "      <th>574</th>\n",
       "      <td>0.0</td>\n",
       "      <td>0.0</td>\n",
       "      <td>0.0</td>\n",
       "      <td>0.0</td>\n",
       "      <td>0</td>\n",
       "      <td>0</td>\n",
       "    </tr>\n",
       "    <tr>\n",
       "      <th>1736</th>\n",
       "      <td>2.0</td>\n",
       "      <td>3.0</td>\n",
       "      <td>3.0</td>\n",
       "      <td>2.0</td>\n",
       "      <td>2</td>\n",
       "      <td>3</td>\n",
       "    </tr>\n",
       "    <tr>\n",
       "      <th>1003</th>\n",
       "      <td>0.0</td>\n",
       "      <td>0.0</td>\n",
       "      <td>0.0</td>\n",
       "      <td>0.0</td>\n",
       "      <td>0</td>\n",
       "      <td>0</td>\n",
       "    </tr>\n",
       "    <tr>\n",
       "      <th>...</th>\n",
       "      <td>...</td>\n",
       "      <td>...</td>\n",
       "      <td>...</td>\n",
       "      <td>...</td>\n",
       "      <td>...</td>\n",
       "      <td>...</td>\n",
       "    </tr>\n",
       "    <tr>\n",
       "      <th>2478</th>\n",
       "      <td>0.0</td>\n",
       "      <td>0.0</td>\n",
       "      <td>0.0</td>\n",
       "      <td>0.0</td>\n",
       "      <td>0</td>\n",
       "      <td>0</td>\n",
       "    </tr>\n",
       "    <tr>\n",
       "      <th>2943</th>\n",
       "      <td>0.0</td>\n",
       "      <td>0.0</td>\n",
       "      <td>0.0</td>\n",
       "      <td>0.0</td>\n",
       "      <td>0</td>\n",
       "      <td>0</td>\n",
       "    </tr>\n",
       "    <tr>\n",
       "      <th>2947</th>\n",
       "      <td>0.0</td>\n",
       "      <td>0.0</td>\n",
       "      <td>0.0</td>\n",
       "      <td>0.0</td>\n",
       "      <td>0</td>\n",
       "      <td>0</td>\n",
       "    </tr>\n",
       "    <tr>\n",
       "      <th>2368</th>\n",
       "      <td>1.0</td>\n",
       "      <td>0.0</td>\n",
       "      <td>0.0</td>\n",
       "      <td>0.0</td>\n",
       "      <td>0</td>\n",
       "      <td>0</td>\n",
       "    </tr>\n",
       "    <tr>\n",
       "      <th>1692</th>\n",
       "      <td>2.0</td>\n",
       "      <td>2.0</td>\n",
       "      <td>2.0</td>\n",
       "      <td>2.0</td>\n",
       "      <td>2</td>\n",
       "      <td>2</td>\n",
       "    </tr>\n",
       "  </tbody>\n",
       "</table>\n",
       "<p>2371 rows × 6 columns</p>\n",
       "</div>"
      ],
      "text/plain": [
       "      pay_0  pay_2  pay_3  pay_4  pay_5  pay_6\n",
       "1094    0.0    0.0    0.0    2.0      0      0\n",
       "2936    0.0    0.0    0.0    0.0      0      0\n",
       "574     0.0    0.0    0.0    0.0      0      0\n",
       "1736    2.0    3.0    3.0    2.0      2      3\n",
       "1003    0.0    0.0    0.0    0.0      0      0\n",
       "...     ...    ...    ...    ...    ...    ...\n",
       "2478    0.0    0.0    0.0    0.0      0      0\n",
       "2943    0.0    0.0    0.0    0.0      0      0\n",
       "2947    0.0    0.0    0.0    0.0      0      0\n",
       "2368    1.0    0.0    0.0    0.0      0      0\n",
       "1692    2.0    2.0    2.0    2.0      2      2\n",
       "\n",
       "[2371 rows x 6 columns]"
      ]
     },
     "execution_count": 686,
     "metadata": {},
     "output_type": "execute_result"
    }
   ],
   "source": [
    "X_train_cat"
   ]
  },
  {
   "cell_type": "code",
   "execution_count": 687,
   "metadata": {},
   "outputs": [
    {
     "data": {
      "text/plain": [
       "array([0., 1., 2., 3., 4., 5., 6., 7., 8.])"
      ]
     },
     "execution_count": 687,
     "metadata": {},
     "output_type": "execute_result"
    }
   ],
   "source": [
    "X_train_cat['pay_0'].sort_values().unique()"
   ]
  },
  {
   "attachments": {},
   "cell_type": "markdown",
   "metadata": {},
   "source": [
    "# Overall Analysis"
   ]
  },
  {
   "attachments": {},
   "cell_type": "markdown",
   "metadata": {},
   "source": [
    "Dari hasil model yang telah dibuat dan berdasarkan seluruh penelitian diatas, dapat disimpulkan beberapa hal:\n",
    "- Model mengalami underfit, karena skor yang cukup rendah pada model train dan model test\n",
    "- Kemampuan model dalam memprediksi class (1) cukup rendah, menunjukkan bahwa kemampuan model yang cenderung menampilkan hasil False Negatif\n",
    "- Pada hyperparameter tuning, ditemukan bahwa dari hasil pencarian, best parameter yang ditemukan adalah sama dengan parameter default. Maka tidak terdapat perbedaan pada model default dengan model hasil tuning.\n",
    "- Karena model mengalami underfit dan kekurang mampuan model dalam memprediksi salah satu class, peneliti berpendapat mungkin dibutuhkan eksplorasi atau preprocess lebih. Grouping mungkin dapat dilakukan lebih baik, atau fitur yang digunakan mungkin dapat ditambah.\n",
    "- Mungkin pada pemilihan model, dapat dipilih berdasarkan f1 score tertinggi dibandingkan recall tertinggi. Dari sini mungkin model akan berbeda dengan hasil prediksi yang mungkin akan lebih baik.\n",
    "- Penggunaan pipeline belum diimplementasikan oleh penulis, baiknya menggunakan pipeline untuk memudahkan pengerjaan model."
   ]
  },
  {
   "attachments": {},
   "cell_type": "markdown",
   "metadata": {},
   "source": [
    "**Conceptual Problems**\n",
    "\n",
    "Jawab pertanyaan berikut:\n",
    "\n",
    "1. `Apa yang dimaksud dengan criterion pada Decision Tree ? Jelaskan criterion yang kalian pakai dalam kasus ini !`\n",
    "\n",
    "Criterion adalah sebuah parameter yang digunakan untuk menentukan bagaimana impurity sebuah split akan diukur, yang nantinya dapat menentukan kualitas dari split tersebut. Dalam penelitian ini, peneliti tidak menggunakan decision tree maka tidak ada criterion yang digunakan. Salah satu criterion dalam decision tree adalah gini, dimana gini adalah sebuah metrik yang mengukur tingkat purity didalam sebuah node/leaf. Skor gini diatas 0 menjelaskan bahwa sample pada sebuah node tergolong pada kelas yang lain atau masih dapat turun ke turunan berikutnya.\n",
    "\n",
    "referensi : https://bit.ly/3WzmoRj\n",
    "\n",
    "2. `Jelaskan apa yang dimaksud dengan pruning pada Tree-based model (alasan, definisi, jenis, dll) !`\n",
    "\n",
    "Pruning adalah sebuah teknik yang digunakan untuk mengurangi overfitting. Pruning juga men-simplifies sebuah decision tree dengan membuang rules paling lemah. Pruning terbagi menjadi Pre-pruning dan Post-pruning. Pre-pruning menghentikan decision tree sebelum tree menyelesaikan klasifikasi terhadap training set. Post-pruning membiarkan tree untuk menyelesaikan klasifikasi terhadap training set baru kemudian dilakukan pruning terhadap tree-nya.\n",
    "\n",
    "referensi : https://bit.ly/3iIm58S\n",
    "\n",
    "3. Bagaimana cara memilih K yang optimal pada KNN ?\n",
    "\n",
    "Salah satu cara untuk menemukan K yang optimal adalah dengan mencoba berbagai macam nilai K dan memilih K yang memberi performa terbaik. K yang biasa digunakan berkisar antara 1 - 20. K yang terlalu kecil menyebabkan decision boundaries yang kurang stabil. K yang optimal biasa ditemukan pada square root N, dimana N adalah jumlah sample.\n",
    "\n",
    "referensi : https://bit.ly/3IValKI\n",
    "\n",
    "4. Jelaskan apa yang dimaksud dengan Cross Validation !\n",
    "\n",
    "Cross Validation adalah sebuah metode statistik yang digunakan untuk mengestimasi performa sebuah model machine learning. CV biasa digunakan untuk melindungi model terhadap overfitting di model prediktif, khususnya pada kasus dimana jumlah data yang limited. Dalam sebuah CV, data akan dipartisi, kemudian di run di setiap partisinya, dan akan dirata-ratakan kemungkinan tingkat errornya.\n",
    "\n",
    "referensi : https://bit.ly/3Wp2VT4\n",
    "\n",
    "5. Apa yang dimaksud dengan metrics-metrics berikut : Accuracy, Precision, Recall, F1 Score, dan kapan waktu yang tepat untuk menggunakannya ?\n",
    "\n",
    "Dalam sebuah model machine learning, dibutuhkan evaluasi terhadap performa model untuk menunjukkan bagaimana kemampuan model tersebut menghasilkan prediksi. Output dalam sebuah machine learning (classification) dapat terbagi kedalam beberapa kategori (dengan menggunakan contoh):\n",
    "- True Positif, dimana keadaan nyata dan hasil prediksi sesuai, sama-sama positif (seorang ibu keadaannya hamil, dan mesin mempredik bahwa ibu itu sedang hamil)\n",
    "- True Negatif, dimana keadaan nyata yang negatif menunjukkan hasil prediksi yang juga negatif (bapak tidak hamil, diprediksi mesin bahwa bapak tidak hamil)\n",
    "- False Positif, keadaan nyata yang negatif namun diprediksi positif (bapak tidak hamil, tapi mesin memprediksi hamil)\n",
    "- False Negatif, keadaan nyata yang positif namun diprediksi negatif (ibu sedang hamil, tapi mesin memprediksi tidak hamil)\n",
    "\n",
    "Kemudian, berdasarkan 4 kategori tersebut didapatkan 4 metrik penilaian.\n",
    "- Accuracy : melihat skor akurasi bagaimana machine learning memprediksi dengan benar pada True Positif dan True Negatif\n",
    "- Precision : memfokuskan pada hasil True Positif dan False Positif\n",
    "- Recall : memfokuskan pada hasil True Positif dan False Negatif, semakin besar tingkat recall makan tingkat FN lebih rendah\n",
    "- F1 score : gabungan dari precision dan recall, F1 lebih baik dari accuracy, terlebih pada data dengan distribusi kelas yang tidak seimbang\n",
    "\n",
    "referensi : \n",
    "- https://bit.ly/3ZDxJ5v \n",
    "- https://bit.ly/3Hgeckt   \n",
    "- https://bit.ly/3XCKqLR"
   ]
  }
 ],
 "metadata": {
  "kernelspec": {
   "display_name": "base",
   "language": "python",
   "name": "python3"
  },
  "language_info": {
   "codemirror_mode": {
    "name": "ipython",
    "version": 3
   },
   "file_extension": ".py",
   "mimetype": "text/x-python",
   "name": "python",
   "nbconvert_exporter": "python",
   "pygments_lexer": "ipython3",
   "version": "3.9.13 (main, Aug 25 2022, 23:51:50) [MSC v.1916 64 bit (AMD64)]"
  },
  "orig_nbformat": 4,
  "vscode": {
   "interpreter": {
    "hash": "dcd69a82889998cdb0cb6483275b6b0e0dce409c8639ae7e2066db837abe02f6"
   }
  }
 },
 "nbformat": 4,
 "nbformat_minor": 2
}
